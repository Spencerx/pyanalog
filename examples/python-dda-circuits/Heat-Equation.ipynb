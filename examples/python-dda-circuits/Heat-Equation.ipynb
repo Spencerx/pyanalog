{
 "cells": [
  {
   "cell_type": "markdown",
   "metadata": {},
   "source": [
    "# Heat-equation in 1D and 2D with DDA\n",
    "\n",
    "The [heat equation](https://en.wikipedia.org/wiki/Heat_equation) is a partial differential equation (PDE). Being an elliptical equation with a Laplace operator, so second order in space, first order in time, it is one of the typical text-book introductions. It describes the fate of a given field $u=u(\\vec x, t)$, and is given by\n",
    "\n",
    "$$ \\frac{\\partial u}{\\partial t} = \\alpha \\nabla^2 u$$\n",
    "\n",
    "where $\\nabla^2$ is the Laplace operator $\\nabla^2 = \\sum_{i=1}^d \\partial^2 / \\partial^2 x_i$ in $d$ spatial dimensions and $\\alpha$ is a constant for driving the coupling/gain.\n",
    "\n",
    "The aim of this notebook is to demonstrate how to solve the heat-equation in one and two spatial dimensions with DDA or an analog computer, respectively. To do so, we use the [method of lines](https://en.wikipedia.org/wiki/Method_of_lines) to convert the PDE in a set of ordinary differential equations (ODEs), which itself are spatially discretized with [central finite differences](https://en.wikipedia.org/wiki/Finite_difference).\n",
    "\n",
    "This example follows the [Analog Paradigm Application Notes 24](http://analogparadigm.com/downloads/alpaca_24.pdf), where a circuit and further comments on symmetries can be found.\n",
    "\n",
    "For initial data, we will always model a singular peak $u_0(\\vec x) = \\delta(\\vec x_0)$ at some position $\\vec x_0$. Discretized, this translates to having all $u_i=0$ for all $i$ except one where $u_i=1$."
   ]
  },
  {
   "cell_type": "code",
   "execution_count": 1,
   "metadata": {},
   "outputs": [],
   "source": [
    "from numpy import *\n",
    "from dda import *\n",
    "from dda.computing_elements import *\n",
    "from dda.cpp_exporter import compile, run\n",
    "from matplotlib.pyplot import *"
   ]
  },
  {
   "cell_type": "code",
   "execution_count": 2,
   "metadata": {},
   "outputs": [],
   "source": [
    "alpha = const(4)"
   ]
  },
  {
   "cell_type": "markdown",
   "metadata": {},
   "source": [
    "## 1D Heat equation\n",
    "For the beginning, we solve the heat equation in one temporal and one spatial dimension.\n",
    "\n",
    "First, we define the symbols $u$ and $u0$ and the initial data:"
   ]
  },
  {
   "cell_type": "code",
   "execution_count": 3,
   "metadata": {},
   "outputs": [
    {
     "name": "stdout",
     "output_type": "stream",
     "text": [
      "We have defined:\n",
      "u = [u0, u1, u2, u3, u4, u5, u6, u7, u8, u9]\n",
      "u0 = [ic_u0, ic_u1, ic_u2, ic_u3, ic_u4, ic_u5, ic_u6, ic_u7, ic_u8, ic_u9]\n",
      "state = State({'dt': const(0.01),\n",
      " 'ic_u0': const(0),\n",
      " 'ic_u1': const(0),\n",
      " 'ic_u2': const(0),\n",
      " 'ic_u3': const(0),\n",
      " 'ic_u4': const(0),\n",
      " 'ic_u5': const(1),\n",
      " 'ic_u6': const(0),\n",
      " 'ic_u7': const(0),\n",
      " 'ic_u8': const(0),\n",
      " 'ic_u9': const(0)})\n"
     ]
    }
   ],
   "source": [
    "state = State() # start with a fresh state\n",
    "\n",
    "N = 10 # supporting points\n",
    "u = [ Symbol(f\"u{i}\") for i in range(N)  ]\n",
    "\n",
    "# Initial conditions:\n",
    "u0 = [ Symbol(f\"ic_u{i}\") for i in range(N) ]\n",
    "\n",
    "for i in range(N):\n",
    "    state[u0[i]] = const(0)\n",
    "    \n",
    "state[ u0[5] ] = const(1) # our candle at the boundary :-D\n",
    "\n",
    "# Time step\n",
    "dt = Symbol(\"dt\")\n",
    "state[dt] = const(0.01)\n",
    "\n",
    "print(\"We have defined:\")\n",
    "print(f\"{u = }\")\n",
    "print(f\"{u0 = }\")\n",
    "print(f\"{state = }\")"
   ]
  },
  {
   "cell_type": "markdown",
   "metadata": {},
   "source": [
    "In 1D, we approximate the Laplace operator by the central finite difference $$\\nabla^2 u = u_{i-1} + u_{i+1} - 2u_i$$\n",
    "\n",
    "We implement [periodic boundary conditions](https://en.wikipedia.org/wiki/Periodic_boundary_conditions), so $u_N=u_0$."
   ]
  },
  {
   "cell_type": "code",
   "execution_count": 4,
   "metadata": {},
   "outputs": [],
   "source": [
    "for i in range(N):\n",
    "    # compute i-1 and i+1 with proper boundary conditions:\n",
    "    im1 = i-1 if i>0 else N-1\n",
    "    ip1 = i+1 if i!=N-1 else 0\n",
    "    helper = Symbol(f\"u_intermediate_{i}\")\n",
    "    state[helper] = neg(mult(2,u[i]))\n",
    "    state[ u[i] ] = int(mult(alpha,sum(u[im1], u[ip1], helper)), dt, u0[i])"
   ]
  },
  {
   "cell_type": "markdown",
   "metadata": {},
   "source": [
    "Let's inspect our state built so far:"
   ]
  },
  {
   "cell_type": "code",
   "execution_count": 5,
   "metadata": {},
   "outputs": [
    {
     "data": {
      "text/plain": [
       "State({'dt': const(0.01),\n",
       " 'ic_u0': const(0),\n",
       " 'ic_u1': const(0),\n",
       " 'ic_u2': const(0),\n",
       " 'ic_u3': const(0),\n",
       " 'ic_u4': const(0),\n",
       " 'ic_u5': const(1),\n",
       " 'ic_u6': const(0),\n",
       " 'ic_u7': const(0),\n",
       " 'ic_u8': const(0),\n",
       " 'ic_u9': const(0),\n",
       " 'u0': int(mult(const(4), sum(u9, u1, u_intermediate_0)), dt, ic_u0),\n",
       " 'u1': int(mult(const(4), sum(u0, u2, u_intermediate_1)), dt, ic_u1),\n",
       " 'u2': int(mult(const(4), sum(u1, u3, u_intermediate_2)), dt, ic_u2),\n",
       " 'u3': int(mult(const(4), sum(u2, u4, u_intermediate_3)), dt, ic_u3),\n",
       " 'u4': int(mult(const(4), sum(u3, u5, u_intermediate_4)), dt, ic_u4),\n",
       " 'u5': int(mult(const(4), sum(u4, u6, u_intermediate_5)), dt, ic_u5),\n",
       " 'u6': int(mult(const(4), sum(u5, u7, u_intermediate_6)), dt, ic_u6),\n",
       " 'u7': int(mult(const(4), sum(u6, u8, u_intermediate_7)), dt, ic_u7),\n",
       " 'u8': int(mult(const(4), sum(u7, u9, u_intermediate_8)), dt, ic_u8),\n",
       " 'u9': int(mult(const(4), sum(u8, u0, u_intermediate_9)), dt, ic_u9),\n",
       " 'u_intermediate_0': neg(mult(2, u0)),\n",
       " 'u_intermediate_1': neg(mult(2, u1)),\n",
       " 'u_intermediate_2': neg(mult(2, u2)),\n",
       " 'u_intermediate_3': neg(mult(2, u3)),\n",
       " 'u_intermediate_4': neg(mult(2, u4)),\n",
       " 'u_intermediate_5': neg(mult(2, u5)),\n",
       " 'u_intermediate_6': neg(mult(2, u6)),\n",
       " 'u_intermediate_7': neg(mult(2, u7)),\n",
       " 'u_intermediate_8': neg(mult(2, u8)),\n",
       " 'u_intermediate_9': neg(mult(2, u9))})"
      ]
     },
     "execution_count": 5,
     "metadata": {},
     "output_type": "execute_result"
    }
   ],
   "source": [
    "state"
   ]
  },
  {
   "cell_type": "markdown",
   "metadata": {},
   "source": [
    "or as latex:"
   ]
  },
  {
   "cell_type": "code",
   "execution_count": 28,
   "metadata": {},
   "outputs": [
    {
     "data": {
      "text/latex": [
       "\\begin{align}\n",
       "dt &= 0.01 \\\\\n",
       "ic_{u0} &= 0 \\\\\n",
       "ic_{u1} &= 0 \\\\\n",
       "ic_{u2} &= 0 \\\\\n",
       "ic_{u3} &= 0 \\\\\n",
       "ic_{u4} &= 0 \\\\\n",
       "ic_{u5} &= 1.0 \\\\\n",
       "ic_{u6} &= 0 \\\\\n",
       "ic_{u7} &= 0 \\\\\n",
       "ic_{u8} &= 0 \\\\\n",
       "ic_{u9} &= 0 \\\\\n",
       "u_{0} &= - \\int \\left(dt + ic_{u0} - 4 u_{1} - 4 u_{9} - 4 u_{intermediate 0}\\right)\\, dt \\\\\n",
       "u_{1} &= - \\int \\left(dt + ic_{u1} - 4 u_{0} - 4 u_{2} - 4 u_{intermediate 1}\\right)\\, dt \\\\\n",
       "u_{2} &= - \\int \\left(dt + ic_{u2} - 4 u_{1} - 4 u_{3} - 4 u_{intermediate 2}\\right)\\, dt \\\\\n",
       "u_{3} &= - \\int \\left(dt + ic_{u3} - 4 u_{2} - 4 u_{4} - 4 u_{intermediate 3}\\right)\\, dt \\\\\n",
       "u_{4} &= - \\int \\left(dt + ic_{u4} - 4 u_{3} - 4 u_{5} - 4 u_{intermediate 4}\\right)\\, dt \\\\\n",
       "u_{5} &= - \\int \\left(dt + ic_{u5} - 4 u_{4} - 4 u_{6} - 4 u_{intermediate 5}\\right)\\, dt \\\\\n",
       "u_{6} &= - \\int \\left(dt + ic_{u6} - 4 u_{5} - 4 u_{7} - 4 u_{intermediate 6}\\right)\\, dt \\\\\n",
       "u_{7} &= - \\int \\left(dt + ic_{u7} - 4 u_{6} - 4 u_{8} - 4 u_{intermediate 7}\\right)\\, dt \\\\\n",
       "u_{8} &= - \\int \\left(dt + ic_{u8} - 4 u_{7} - 4 u_{9} - 4 u_{intermediate 8}\\right)\\, dt \\\\\n",
       "u_{9} &= - \\int \\left(dt + ic_{u9} - 4 u_{0} - 4 u_{8} - 4 u_{intermediate 9}\\right)\\, dt \\\\\n",
       "u_{intermediate 0} &= - 2.0 u_{0} \\\\\n",
       "u_{intermediate 1} &= - 2.0 u_{1} \\\\\n",
       "u_{intermediate 2} &= - 2.0 u_{2} \\\\\n",
       "u_{intermediate 3} &= - 2.0 u_{3} \\\\\n",
       "u_{intermediate 4} &= - 2.0 u_{4} \\\\\n",
       "u_{intermediate 5} &= - 2.0 u_{5} \\\\\n",
       "u_{intermediate 6} &= - 2.0 u_{6} \\\\\n",
       "u_{intermediate 7} &= - 2.0 u_{7} \\\\\n",
       "u_{intermediate 8} &= - 2.0 u_{8} \\\\\n",
       "u_{intermediate 9} &= - 2.0 u_{9}\n",
       "\\end{align}"
      ],
      "text/plain": [
       "<IPython.core.display.Latex object>"
      ]
     },
     "metadata": {},
     "output_type": "display_data"
    }
   ],
   "source": [
    "from IPython.display import display, Markdown, Latex\n",
    "display(Latex(state.export(to=\"latex\")))"
   ]
  },
  {
   "cell_type": "code",
   "execution_count": 6,
   "metadata": {},
   "outputs": [],
   "source": [
    "c_code = state.export(to=\"C\")\n",
    "compile(c_code, \"heateq.cc\")"
   ]
  },
  {
   "cell_type": "markdown",
   "metadata": {},
   "source": [
    "If you want, you can print the generated c_code or inspect it with a text editor."
   ]
  },
  {
   "cell_type": "code",
   "execution_count": 7,
   "metadata": {},
   "outputs": [
    {
     "name": "stdout",
     "output_type": "stream",
     "text": [
      "Running: ./a.out --max_iterations=400\n"
     ]
    }
   ],
   "source": [
    "data = run(arguments={'max_iterations':400})"
   ]
  },
  {
   "cell_type": "code",
   "execution_count": 12,
   "metadata": {},
   "outputs": [
    {
     "data": {
      "text/plain": [
       "Text(0.5, 1.0, 'Time evolution of the 1D heat equation supporting points')"
      ]
     },
     "execution_count": 12,
     "metadata": {},
     "output_type": "execute_result"
    },
    {
     "data": {
      "image/png": "[encoded data removed]",
      "text/plain": [
       "<Figure size 1440x720 with 1 Axes>"
      ]
     },
     "metadata": {
      "needs_background": "light"
     },
     "output_type": "display_data"
    }
   ],
   "source": [
    "rcParams[\"figure.figsize\"] = (20,10)\n",
    "for i in range(N):\n",
    "    plot(data[f\"u{i}\"])\n",
    "    \n",
    "xlabel(\"Evolution time (arbitrary indices)\")\n",
    "ylabel(\"Field values of the supporting points\")\n",
    "title(\"Time evolution of the 1D heat equation supporting points\")"
   ]
  },
  {
   "cell_type": "markdown",
   "metadata": {},
   "source": [
    "In the following, we reconstruct the higher-dimensional data and display it color encoded:"
   ]
  },
  {
   "cell_type": "code",
   "execution_count": 17,
   "metadata": {},
   "outputs": [],
   "source": [
    "heat = array([data[f\"u{i}\"] for i in range(N)])"
   ]
  },
  {
   "cell_type": "code",
   "execution_count": 27,
   "metadata": {},
   "outputs": [
    {
     "data": {
      "text/plain": [
       "<matplotlib.image.AxesImage at 0x7f3f68cbc7f0>"
      ]
     },
     "execution_count": 27,
     "metadata": {},
     "output_type": "execute_result"
    },
    {
     "data": {
      "image/png": "[encoded data removed]",
      "text/plain": [
       "<Figure size 2880x1440 with 1 Axes>"
      ]
     },
     "metadata": {
      "needs_background": "light"
     },
     "output_type": "display_data"
    }
   ],
   "source": [
    "rcParams[\"figure.figsize\"] = (40,20)\n",
    "imshow(heat[:,0:90])"
   ]
  },
  {
   "cell_type": "markdown",
   "metadata": {},
   "source": [
    "What you can see in the above plot is on the x-axis again the evolution time and on the y-axis the physical coordinate. Of course the whole image is pretty discretized. You see the initial data (one cell has value 1, all others value 0) and the equilibration of energy amongst all cells."
   ]
  },
  {
   "cell_type": "markdown",
   "metadata": {},
   "source": [
    "## 2D Heat Equation\n",
    "\n",
    "We now solve the heat equation in two spatial and one temporal dimension, which is more similar to what is done in http://analogparadigm.com/downloads/alpaca_24.pdf"
   ]
  },
  {
   "cell_type": "code",
   "execution_count": 30,
   "metadata": {},
   "outputs": [
    {
     "data": {
      "text/plain": [
       "array([[u_0_0, u_0_1, u_0_2, u_0_3, u_0_4, u_0_5, u_0_6, u_0_7, u_0_8,\n",
       "        u_0_9],\n",
       "       [u_1_0, u_1_1, u_1_2, u_1_3, u_1_4, u_1_5, u_1_6, u_1_7, u_1_8,\n",
       "        u_1_9],\n",
       "       [u_2_0, u_2_1, u_2_2, u_2_3, u_2_4, u_2_5, u_2_6, u_2_7, u_2_8,\n",
       "        u_2_9],\n",
       "       [u_3_0, u_3_1, u_3_2, u_3_3, u_3_4, u_3_5, u_3_6, u_3_7, u_3_8,\n",
       "        u_3_9],\n",
       "       [u_4_0, u_4_1, u_4_2, u_4_3, u_4_4, u_4_5, u_4_6, u_4_7, u_4_8,\n",
       "        u_4_9],\n",
       "       [u_5_0, u_5_1, u_5_2, u_5_3, u_5_4, u_5_5, u_5_6, u_5_7, u_5_8,\n",
       "        u_5_9],\n",
       "       [u_6_0, u_6_1, u_6_2, u_6_3, u_6_4, u_6_5, u_6_6, u_6_7, u_6_8,\n",
       "        u_6_9],\n",
       "       [u_7_0, u_7_1, u_7_2, u_7_3, u_7_4, u_7_5, u_7_6, u_7_7, u_7_8,\n",
       "        u_7_9],\n",
       "       [u_8_0, u_8_1, u_8_2, u_8_3, u_8_4, u_8_5, u_8_6, u_8_7, u_8_8,\n",
       "        u_8_9],\n",
       "       [u_9_0, u_9_1, u_9_2, u_9_3, u_9_4, u_9_5, u_9_6, u_9_7, u_9_8,\n",
       "        u_9_9]], dtype=object)"
      ]
     },
     "execution_count": 30,
     "metadata": {},
     "output_type": "execute_result"
    }
   ],
   "source": [
    "state = State()  # restart with a clean state\n",
    "\n",
    "N = 10 # supporting points\n",
    "NN = (N, N) # shape in two dimensions\n",
    "\n",
    "u = array([ Symbol(\"u_%d_%d\"%(i,j)) for i,j in ndindex(NN) ]).reshape(NN)\n",
    "u"
   ]
  },
  {
   "cell_type": "code",
   "execution_count": 31,
   "metadata": {},
   "outputs": [
    {
     "data": {
      "text/plain": [
       "array([[uinitial_0_0, uinitial_0_1, uinitial_0_2, uinitial_0_3,\n",
       "        uinitial_0_4, uinitial_0_5, uinitial_0_6, uinitial_0_7,\n",
       "        uinitial_0_8, uinitial_0_9],\n",
       "       [uinitial_1_0, uinitial_1_1, uinitial_1_2, uinitial_1_3,\n",
       "        uinitial_1_4, uinitial_1_5, uinitial_1_6, uinitial_1_7,\n",
       "        uinitial_1_8, uinitial_1_9],\n",
       "       [uinitial_2_0, uinitial_2_1, uinitial_2_2, uinitial_2_3,\n",
       "        uinitial_2_4, uinitial_2_5, uinitial_2_6, uinitial_2_7,\n",
       "        uinitial_2_8, uinitial_2_9],\n",
       "       [uinitial_3_0, uinitial_3_1, uinitial_3_2, uinitial_3_3,\n",
       "        uinitial_3_4, uinitial_3_5, uinitial_3_6, uinitial_3_7,\n",
       "        uinitial_3_8, uinitial_3_9],\n",
       "       [uinitial_4_0, uinitial_4_1, uinitial_4_2, uinitial_4_3,\n",
       "        uinitial_4_4, uinitial_4_5, uinitial_4_6, uinitial_4_7,\n",
       "        uinitial_4_8, uinitial_4_9],\n",
       "       [uinitial_5_0, uinitial_5_1, uinitial_5_2, uinitial_5_3,\n",
       "        uinitial_5_4, uinitial_5_5, uinitial_5_6, uinitial_5_7,\n",
       "        uinitial_5_8, uinitial_5_9],\n",
       "       [uinitial_6_0, uinitial_6_1, uinitial_6_2, uinitial_6_3,\n",
       "        uinitial_6_4, uinitial_6_5, uinitial_6_6, uinitial_6_7,\n",
       "        uinitial_6_8, uinitial_6_9],\n",
       "       [uinitial_7_0, uinitial_7_1, uinitial_7_2, uinitial_7_3,\n",
       "        uinitial_7_4, uinitial_7_5, uinitial_7_6, uinitial_7_7,\n",
       "        uinitial_7_8, uinitial_7_9],\n",
       "       [uinitial_8_0, uinitial_8_1, uinitial_8_2, uinitial_8_3,\n",
       "        uinitial_8_4, uinitial_8_5, uinitial_8_6, uinitial_8_7,\n",
       "        uinitial_8_8, uinitial_8_9],\n",
       "       [uinitial_9_0, uinitial_9_1, uinitial_9_2, uinitial_9_3,\n",
       "        uinitial_9_4, uinitial_9_5, uinitial_9_6, uinitial_9_7,\n",
       "        uinitial_9_8, uinitial_9_9]], dtype=object)"
      ]
     },
     "execution_count": 31,
     "metadata": {},
     "output_type": "execute_result"
    }
   ],
   "source": [
    "# Symbols for initial conditions:\n",
    "u0 = array([ Symbol(\"uinitial_%d_%d\"%(i,j)) for i,j in ndindex(NN) ]).reshape(NN)\n",
    "u0"
   ]
  },
  {
   "cell_type": "code",
   "execution_count": 32,
   "metadata": {},
   "outputs": [
    {
     "data": {
      "text/plain": [
       "State({'dt': const(0.01),\n",
       " 'uinitial_0_0': const(0),\n",
       " 'uinitial_0_1': const(0),\n",
       " 'uinitial_0_2': const(0),\n",
       " 'uinitial_0_3': const(0),\n",
       " 'uinitial_0_4': const(0),\n",
       " 'uinitial_0_5': const(0),\n",
       " 'uinitial_0_6': const(0),\n",
       " 'uinitial_0_7': const(0),\n",
       " 'uinitial_0_8': const(0),\n",
       " 'uinitial_0_9': const(0),\n",
       " 'uinitial_1_0': const(0),\n",
       " 'uinitial_1_1': const(0),\n",
       " 'uinitial_1_2': const(0),\n",
       " 'uinitial_1_3': const(0),\n",
       " 'uinitial_1_4': const(0),\n",
       " 'uinitial_1_5': const(0),\n",
       " 'uinitial_1_6': const(0),\n",
       " 'uinitial_1_7': const(0),\n",
       " 'uinitial_1_8': const(0),\n",
       " 'uinitial_1_9': const(0),\n",
       " 'uinitial_2_0': const(0),\n",
       " 'uinitial_2_1': const(0),\n",
       " 'uinitial_2_2': const(0),\n",
       " 'uinitial_2_3': const(0),\n",
       " 'uinitial_2_4': const(0),\n",
       " 'uinitial_2_5': const(0),\n",
       " 'uinitial_2_6': const(0),\n",
       " 'uinitial_2_7': const(0),\n",
       " 'uinitial_2_8': const(0),\n",
       " 'uinitial_2_9': const(0),\n",
       " 'uinitial_3_0': const(0),\n",
       " 'uinitial_3_1': const(0),\n",
       " 'uinitial_3_2': const(0),\n",
       " 'uinitial_3_3': const(0),\n",
       " 'uinitial_3_4': const(0),\n",
       " 'uinitial_3_5': const(0),\n",
       " 'uinitial_3_6': const(0),\n",
       " 'uinitial_3_7': const(0),\n",
       " 'uinitial_3_8': const(0),\n",
       " 'uinitial_3_9': const(0),\n",
       " 'uinitial_4_0': const(0),\n",
       " 'uinitial_4_1': const(0),\n",
       " 'uinitial_4_2': const(0),\n",
       " 'uinitial_4_3': const(0),\n",
       " 'uinitial_4_4': const(0),\n",
       " 'uinitial_4_5': const(0),\n",
       " 'uinitial_4_6': const(0),\n",
       " 'uinitial_4_7': const(0),\n",
       " 'uinitial_4_8': const(0),\n",
       " 'uinitial_4_9': const(0),\n",
       " 'uinitial_5_0': const(0),\n",
       " 'uinitial_5_1': const(0),\n",
       " 'uinitial_5_2': const(0),\n",
       " 'uinitial_5_3': const(0),\n",
       " 'uinitial_5_4': const(0),\n",
       " 'uinitial_5_5': const(1),\n",
       " 'uinitial_5_6': const(0),\n",
       " 'uinitial_5_7': const(0),\n",
       " 'uinitial_5_8': const(0),\n",
       " 'uinitial_5_9': const(0),\n",
       " 'uinitial_6_0': const(0),\n",
       " 'uinitial_6_1': const(0),\n",
       " 'uinitial_6_2': const(0),\n",
       " 'uinitial_6_3': const(0),\n",
       " 'uinitial_6_4': const(0),\n",
       " 'uinitial_6_5': const(0),\n",
       " 'uinitial_6_6': const(0),\n",
       " 'uinitial_6_7': const(0),\n",
       " 'uinitial_6_8': const(0),\n",
       " 'uinitial_6_9': const(0),\n",
       " 'uinitial_7_0': const(0),\n",
       " 'uinitial_7_1': const(0),\n",
       " 'uinitial_7_2': const(0),\n",
       " 'uinitial_7_3': const(0),\n",
       " 'uinitial_7_4': const(0),\n",
       " 'uinitial_7_5': const(0),\n",
       " 'uinitial_7_6': const(0),\n",
       " 'uinitial_7_7': const(0),\n",
       " 'uinitial_7_8': const(0),\n",
       " 'uinitial_7_9': const(0),\n",
       " 'uinitial_8_0': const(0),\n",
       " 'uinitial_8_1': const(0),\n",
       " 'uinitial_8_2': const(0),\n",
       " 'uinitial_8_3': const(0),\n",
       " 'uinitial_8_4': const(0),\n",
       " 'uinitial_8_5': const(0),\n",
       " 'uinitial_8_6': const(0),\n",
       " 'uinitial_8_7': const(0),\n",
       " 'uinitial_8_8': const(0),\n",
       " 'uinitial_8_9': const(0),\n",
       " 'uinitial_9_0': const(0),\n",
       " 'uinitial_9_1': const(0),\n",
       " 'uinitial_9_2': const(0),\n",
       " 'uinitial_9_3': const(0),\n",
       " 'uinitial_9_4': const(0),\n",
       " 'uinitial_9_5': const(0),\n",
       " 'uinitial_9_6': const(0),\n",
       " 'uinitial_9_7': const(0),\n",
       " 'uinitial_9_8': const(0),\n",
       " 'uinitial_9_9': const(0)})"
      ]
     },
     "execution_count": 32,
     "metadata": {},
     "output_type": "execute_result"
    }
   ],
   "source": [
    "# imprint the initial conditions:\n",
    "\n",
    "for i,j in ndindex(NN):\n",
    "    state[u0[i,j]] = const(0)\n",
    "    \n",
    "state[ u0[5,5] ] = const(1) # our candle in the very center\n",
    "\n",
    "# Time step\n",
    "dt = Symbol(\"dt\")\n",
    "state[dt] = const(0.01)\n",
    "\n",
    "# Let's see what we made\n",
    "state"
   ]
  },
  {
   "cell_type": "markdown",
   "metadata": {},
   "source": [
    "The Laplace operator is discretized as the following:\n",
    "\n",
    "$$ \\dot u_{i,j} = \\alpha ( u_{i-1,j} + u_{i+1,j} + u_{i,j-1} + u_{i,j+1} - 4 u_{i,j} ) $$"
   ]
  },
  {
   "cell_type": "code",
   "execution_count": 34,
   "metadata": {},
   "outputs": [
    {
     "data": {
      "text/plain": [
       "301"
      ]
     },
     "execution_count": 34,
     "metadata": {},
     "output_type": "execute_result"
    }
   ],
   "source": [
    "for i,j in ndindex(NN):\n",
    "    # compute i-1 and i+1 with proper boundary conditions:\n",
    "    im1 = i-1 if i>0 else N-1\n",
    "    ip1 = i+1 if i!=N-1 else 0\n",
    "    \n",
    "    # compute j-1 and j+1 with proper boundary conditions:\n",
    "    jm1 = j-1 if j>0 else N-1\n",
    "    jp1 = j+1 if j!=N-1 else 0\n",
    "    \n",
    "    helper = Symbol(f\"u_intermediate_{i}_{j}\")\n",
    "    state[helper] = neg(mult(4,u[i,j]))\n",
    "    state[ u[i,j] ] = int(mult(alpha,sum(\n",
    "        u[im1,j], u[ip1,j],\n",
    "        u[i,jm1], u[i,jp1],\n",
    "        helper)), dt, u0[i,j])\n",
    "    \n",
    "len(state)"
   ]
  },
  {
   "cell_type": "markdown",
   "metadata": {},
   "source": [
    "The state is already enormous. Realizing this circuit requires more then 300 wires or computing elements, respectively:"
   ]
  },
  {
   "cell_type": "code",
   "execution_count": 35,
   "metadata": {},
   "outputs": [
    {
     "data": {
      "text/plain": [
       "State({'dt': const(0.01),\n",
       " 'u_0_0': int(mult(const(4), sum(u_9_0, u_1_0, u_0_9, u_0_1, u_intermediate_0_0)), dt, uinitial_0_0),\n",
       " 'u_0_1': int(mult(const(4), sum(u_9_1, u_1_1, u_0_0, u_0_2, u_intermediate_0_1)), dt, uinitial_0_1),\n",
       " 'u_0_2': int(mult(const(4), sum(u_9_2, u_1_2, u_0_1, u_0_3, u_intermediate_0_2)), dt, uinitial_0_2),\n",
       " 'u_0_3': int(mult(const(4), sum(u_9_3, u_1_3, u_0_2, u_0_4, u_intermediate_0_3)), dt, uinitial_0_3),\n",
       " 'u_0_4': int(mult(const(4), sum(u_9_4, u_1_4, u_0_3, u_0_5, u_intermediate_0_4)), dt, uinitial_0_4),\n",
       " 'u_0_5': int(mult(const(4), sum(u_9_5, u_1_5, u_0_4, u_0_6, u_intermediate_0_5)), dt, uinitial_0_5),\n",
       " 'u_0_6': int(mult(const(4), sum(u_9_6, u_1_6, u_0_5, u_0_7, u_intermediate_0_6)), dt, uinitial_0_6),\n",
       " 'u_0_7': int(mult(const(4), sum(u_9_7, u_1_7, u_0_6, u_0_8, u_intermediate_0_7)), dt, uinitial_0_7),\n",
       " 'u_0_8': int(mult(const(4), sum(u_9_8, u_1_8, u_0_7, u_0_9, u_intermediate_0_8)), dt, uinitial_0_8),\n",
       " 'u_0_9': int(mult(const(4), sum(u_9_9, u_1_9, u_0_8, u_0_0, u_intermediate_0_9)), dt, uinitial_0_9),\n",
       " 'u_1_0': int(mult(const(4), sum(u_0_0, u_2_0, u_1_9, u_1_1, u_intermediate_1_0)), dt, uinitial_1_0),\n",
       " 'u_1_1': int(mult(const(4), sum(u_0_1, u_2_1, u_1_0, u_1_2, u_intermediate_1_1)), dt, uinitial_1_1),\n",
       " 'u_1_2': int(mult(const(4), sum(u_0_2, u_2_2, u_1_1, u_1_3, u_intermediate_1_2)), dt, uinitial_1_2),\n",
       " 'u_1_3': int(mult(const(4), sum(u_0_3, u_2_3, u_1_2, u_1_4, u_intermediate_1_3)), dt, uinitial_1_3),\n",
       " 'u_1_4': int(mult(const(4), sum(u_0_4, u_2_4, u_1_3, u_1_5, u_intermediate_1_4)), dt, uinitial_1_4),\n",
       " 'u_1_5': int(mult(const(4), sum(u_0_5, u_2_5, u_1_4, u_1_6, u_intermediate_1_5)), dt, uinitial_1_5),\n",
       " 'u_1_6': int(mult(const(4), sum(u_0_6, u_2_6, u_1_5, u_1_7, u_intermediate_1_6)), dt, uinitial_1_6),\n",
       " 'u_1_7': int(mult(const(4), sum(u_0_7, u_2_7, u_1_6, u_1_8, u_intermediate_1_7)), dt, uinitial_1_7),\n",
       " 'u_1_8': int(mult(const(4), sum(u_0_8, u_2_8, u_1_7, u_1_9, u_intermediate_1_8)), dt, uinitial_1_8),\n",
       " 'u_1_9': int(mult(const(4), sum(u_0_9, u_2_9, u_1_8, u_1_0, u_intermediate_1_9)), dt, uinitial_1_9),\n",
       " 'u_2_0': int(mult(const(4), sum(u_1_0, u_3_0, u_2_9, u_2_1, u_intermediate_2_0)), dt, uinitial_2_0),\n",
       " 'u_2_1': int(mult(const(4), sum(u_1_1, u_3_1, u_2_0, u_2_2, u_intermediate_2_1)), dt, uinitial_2_1),\n",
       " 'u_2_2': int(mult(const(4), sum(u_1_2, u_3_2, u_2_1, u_2_3, u_intermediate_2_2)), dt, uinitial_2_2),\n",
       " 'u_2_3': int(mult(const(4), sum(u_1_3, u_3_3, u_2_2, u_2_4, u_intermediate_2_3)), dt, uinitial_2_3),\n",
       " 'u_2_4': int(mult(const(4), sum(u_1_4, u_3_4, u_2_3, u_2_5, u_intermediate_2_4)), dt, uinitial_2_4),\n",
       " 'u_2_5': int(mult(const(4), sum(u_1_5, u_3_5, u_2_4, u_2_6, u_intermediate_2_5)), dt, uinitial_2_5),\n",
       " 'u_2_6': int(mult(const(4), sum(u_1_6, u_3_6, u_2_5, u_2_7, u_intermediate_2_6)), dt, uinitial_2_6),\n",
       " 'u_2_7': int(mult(const(4), sum(u_1_7, u_3_7, u_2_6, u_2_8, u_intermediate_2_7)), dt, uinitial_2_7),\n",
       " 'u_2_8': int(mult(const(4), sum(u_1_8, u_3_8, u_2_7, u_2_9, u_intermediate_2_8)), dt, uinitial_2_8),\n",
       " 'u_2_9': int(mult(const(4), sum(u_1_9, u_3_9, u_2_8, u_2_0, u_intermediate_2_9)), dt, uinitial_2_9),\n",
       " 'u_3_0': int(mult(const(4), sum(u_2_0, u_4_0, u_3_9, u_3_1, u_intermediate_3_0)), dt, uinitial_3_0),\n",
       " 'u_3_1': int(mult(const(4), sum(u_2_1, u_4_1, u_3_0, u_3_2, u_intermediate_3_1)), dt, uinitial_3_1),\n",
       " 'u_3_2': int(mult(const(4), sum(u_2_2, u_4_2, u_3_1, u_3_3, u_intermediate_3_2)), dt, uinitial_3_2),\n",
       " 'u_3_3': int(mult(const(4), sum(u_2_3, u_4_3, u_3_2, u_3_4, u_intermediate_3_3)), dt, uinitial_3_3),\n",
       " 'u_3_4': int(mult(const(4), sum(u_2_4, u_4_4, u_3_3, u_3_5, u_intermediate_3_4)), dt, uinitial_3_4),\n",
       " 'u_3_5': int(mult(const(4), sum(u_2_5, u_4_5, u_3_4, u_3_6, u_intermediate_3_5)), dt, uinitial_3_5),\n",
       " 'u_3_6': int(mult(const(4), sum(u_2_6, u_4_6, u_3_5, u_3_7, u_intermediate_3_6)), dt, uinitial_3_6),\n",
       " 'u_3_7': int(mult(const(4), sum(u_2_7, u_4_7, u_3_6, u_3_8, u_intermediate_3_7)), dt, uinitial_3_7),\n",
       " 'u_3_8': int(mult(const(4), sum(u_2_8, u_4_8, u_3_7, u_3_9, u_intermediate_3_8)), dt, uinitial_3_8),\n",
       " 'u_3_9': int(mult(const(4), sum(u_2_9, u_4_9, u_3_8, u_3_0, u_intermediate_3_9)), dt, uinitial_3_9),\n",
       " 'u_4_0': int(mult(const(4), sum(u_3_0, u_5_0, u_4_9, u_4_1, u_intermediate_4_0)), dt, uinitial_4_0),\n",
       " 'u_4_1': int(mult(const(4), sum(u_3_1, u_5_1, u_4_0, u_4_2, u_intermediate_4_1)), dt, uinitial_4_1),\n",
       " 'u_4_2': int(mult(const(4), sum(u_3_2, u_5_2, u_4_1, u_4_3, u_intermediate_4_2)), dt, uinitial_4_2),\n",
       " 'u_4_3': int(mult(const(4), sum(u_3_3, u_5_3, u_4_2, u_4_4, u_intermediate_4_3)), dt, uinitial_4_3),\n",
       " 'u_4_4': int(mult(const(4), sum(u_3_4, u_5_4, u_4_3, u_4_5, u_intermediate_4_4)), dt, uinitial_4_4),\n",
       " 'u_4_5': int(mult(const(4), sum(u_3_5, u_5_5, u_4_4, u_4_6, u_intermediate_4_5)), dt, uinitial_4_5),\n",
       " 'u_4_6': int(mult(const(4), sum(u_3_6, u_5_6, u_4_5, u_4_7, u_intermediate_4_6)), dt, uinitial_4_6),\n",
       " 'u_4_7': int(mult(const(4), sum(u_3_7, u_5_7, u_4_6, u_4_8, u_intermediate_4_7)), dt, uinitial_4_7),\n",
       " 'u_4_8': int(mult(const(4), sum(u_3_8, u_5_8, u_4_7, u_4_9, u_intermediate_4_8)), dt, uinitial_4_8),\n",
       " 'u_4_9': int(mult(const(4), sum(u_3_9, u_5_9, u_4_8, u_4_0, u_intermediate_4_9)), dt, uinitial_4_9),\n",
       " 'u_5_0': int(mult(const(4), sum(u_4_0, u_6_0, u_5_9, u_5_1, u_intermediate_5_0)), dt, uinitial_5_0),\n",
       " 'u_5_1': int(mult(const(4), sum(u_4_1, u_6_1, u_5_0, u_5_2, u_intermediate_5_1)), dt, uinitial_5_1),\n",
       " 'u_5_2': int(mult(const(4), sum(u_4_2, u_6_2, u_5_1, u_5_3, u_intermediate_5_2)), dt, uinitial_5_2),\n",
       " 'u_5_3': int(mult(const(4), sum(u_4_3, u_6_3, u_5_2, u_5_4, u_intermediate_5_3)), dt, uinitial_5_3),\n",
       " 'u_5_4': int(mult(const(4), sum(u_4_4, u_6_4, u_5_3, u_5_5, u_intermediate_5_4)), dt, uinitial_5_4),\n",
       " 'u_5_5': int(mult(const(4), sum(u_4_5, u_6_5, u_5_4, u_5_6, u_intermediate_5_5)), dt, uinitial_5_5),\n",
       " 'u_5_6': int(mult(const(4), sum(u_4_6, u_6_6, u_5_5, u_5_7, u_intermediate_5_6)), dt, uinitial_5_6),\n",
       " 'u_5_7': int(mult(const(4), sum(u_4_7, u_6_7, u_5_6, u_5_8, u_intermediate_5_7)), dt, uinitial_5_7),\n",
       " 'u_5_8': int(mult(const(4), sum(u_4_8, u_6_8, u_5_7, u_5_9, u_intermediate_5_8)), dt, uinitial_5_8),\n",
       " 'u_5_9': int(mult(const(4), sum(u_4_9, u_6_9, u_5_8, u_5_0, u_intermediate_5_9)), dt, uinitial_5_9),\n",
       " 'u_6_0': int(mult(const(4), sum(u_5_0, u_7_0, u_6_9, u_6_1, u_intermediate_6_0)), dt, uinitial_6_0),\n",
       " 'u_6_1': int(mult(const(4), sum(u_5_1, u_7_1, u_6_0, u_6_2, u_intermediate_6_1)), dt, uinitial_6_1),\n",
       " 'u_6_2': int(mult(const(4), sum(u_5_2, u_7_2, u_6_1, u_6_3, u_intermediate_6_2)), dt, uinitial_6_2),\n",
       " 'u_6_3': int(mult(const(4), sum(u_5_3, u_7_3, u_6_2, u_6_4, u_intermediate_6_3)), dt, uinitial_6_3),\n",
       " 'u_6_4': int(mult(const(4), sum(u_5_4, u_7_4, u_6_3, u_6_5, u_intermediate_6_4)), dt, uinitial_6_4),\n",
       " 'u_6_5': int(mult(const(4), sum(u_5_5, u_7_5, u_6_4, u_6_6, u_intermediate_6_5)), dt, uinitial_6_5),\n",
       " 'u_6_6': int(mult(const(4), sum(u_5_6, u_7_6, u_6_5, u_6_7, u_intermediate_6_6)), dt, uinitial_6_6),\n",
       " 'u_6_7': int(mult(const(4), sum(u_5_7, u_7_7, u_6_6, u_6_8, u_intermediate_6_7)), dt, uinitial_6_7),\n",
       " 'u_6_8': int(mult(const(4), sum(u_5_8, u_7_8, u_6_7, u_6_9, u_intermediate_6_8)), dt, uinitial_6_8),\n",
       " 'u_6_9': int(mult(const(4), sum(u_5_9, u_7_9, u_6_8, u_6_0, u_intermediate_6_9)), dt, uinitial_6_9),\n",
       " 'u_7_0': int(mult(const(4), sum(u_6_0, u_8_0, u_7_9, u_7_1, u_intermediate_7_0)), dt, uinitial_7_0),\n",
       " 'u_7_1': int(mult(const(4), sum(u_6_1, u_8_1, u_7_0, u_7_2, u_intermediate_7_1)), dt, uinitial_7_1),\n",
       " 'u_7_2': int(mult(const(4), sum(u_6_2, u_8_2, u_7_1, u_7_3, u_intermediate_7_2)), dt, uinitial_7_2),\n",
       " 'u_7_3': int(mult(const(4), sum(u_6_3, u_8_3, u_7_2, u_7_4, u_intermediate_7_3)), dt, uinitial_7_3),\n",
       " 'u_7_4': int(mult(const(4), sum(u_6_4, u_8_4, u_7_3, u_7_5, u_intermediate_7_4)), dt, uinitial_7_4),\n",
       " 'u_7_5': int(mult(const(4), sum(u_6_5, u_8_5, u_7_4, u_7_6, u_intermediate_7_5)), dt, uinitial_7_5),\n",
       " 'u_7_6': int(mult(const(4), sum(u_6_6, u_8_6, u_7_5, u_7_7, u_intermediate_7_6)), dt, uinitial_7_6),\n",
       " 'u_7_7': int(mult(const(4), sum(u_6_7, u_8_7, u_7_6, u_7_8, u_intermediate_7_7)), dt, uinitial_7_7),\n",
       " 'u_7_8': int(mult(const(4), sum(u_6_8, u_8_8, u_7_7, u_7_9, u_intermediate_7_8)), dt, uinitial_7_8),\n",
       " 'u_7_9': int(mult(const(4), sum(u_6_9, u_8_9, u_7_8, u_7_0, u_intermediate_7_9)), dt, uinitial_7_9),\n",
       " 'u_8_0': int(mult(const(4), sum(u_7_0, u_9_0, u_8_9, u_8_1, u_intermediate_8_0)), dt, uinitial_8_0),\n",
       " 'u_8_1': int(mult(const(4), sum(u_7_1, u_9_1, u_8_0, u_8_2, u_intermediate_8_1)), dt, uinitial_8_1),\n",
       " 'u_8_2': int(mult(const(4), sum(u_7_2, u_9_2, u_8_1, u_8_3, u_intermediate_8_2)), dt, uinitial_8_2),\n",
       " 'u_8_3': int(mult(const(4), sum(u_7_3, u_9_3, u_8_2, u_8_4, u_intermediate_8_3)), dt, uinitial_8_3),\n",
       " 'u_8_4': int(mult(const(4), sum(u_7_4, u_9_4, u_8_3, u_8_5, u_intermediate_8_4)), dt, uinitial_8_4),\n",
       " 'u_8_5': int(mult(const(4), sum(u_7_5, u_9_5, u_8_4, u_8_6, u_intermediate_8_5)), dt, uinitial_8_5),\n",
       " 'u_8_6': int(mult(const(4), sum(u_7_6, u_9_6, u_8_5, u_8_7, u_intermediate_8_6)), dt, uinitial_8_6),\n",
       " 'u_8_7': int(mult(const(4), sum(u_7_7, u_9_7, u_8_6, u_8_8, u_intermediate_8_7)), dt, uinitial_8_7),\n",
       " 'u_8_8': int(mult(const(4), sum(u_7_8, u_9_8, u_8_7, u_8_9, u_intermediate_8_8)), dt, uinitial_8_8),\n",
       " 'u_8_9': int(mult(const(4), sum(u_7_9, u_9_9, u_8_8, u_8_0, u_intermediate_8_9)), dt, uinitial_8_9),\n",
       " 'u_9_0': int(mult(const(4), sum(u_8_0, u_0_0, u_9_9, u_9_1, u_intermediate_9_0)), dt, uinitial_9_0),\n",
       " 'u_9_1': int(mult(const(4), sum(u_8_1, u_0_1, u_9_0, u_9_2, u_intermediate_9_1)), dt, uinitial_9_1),\n",
       " 'u_9_2': int(mult(const(4), sum(u_8_2, u_0_2, u_9_1, u_9_3, u_intermediate_9_2)), dt, uinitial_9_2),\n",
       " 'u_9_3': int(mult(const(4), sum(u_8_3, u_0_3, u_9_2, u_9_4, u_intermediate_9_3)), dt, uinitial_9_3),\n",
       " 'u_9_4': int(mult(const(4), sum(u_8_4, u_0_4, u_9_3, u_9_5, u_intermediate_9_4)), dt, uinitial_9_4),\n",
       " 'u_9_5': int(mult(const(4), sum(u_8_5, u_0_5, u_9_4, u_9_6, u_intermediate_9_5)), dt, uinitial_9_5),\n",
       " 'u_9_6': int(mult(const(4), sum(u_8_6, u_0_6, u_9_5, u_9_7, u_intermediate_9_6)), dt, uinitial_9_6),\n",
       " 'u_9_7': int(mult(const(4), sum(u_8_7, u_0_7, u_9_6, u_9_8, u_intermediate_9_7)), dt, uinitial_9_7),\n",
       " 'u_9_8': int(mult(const(4), sum(u_8_8, u_0_8, u_9_7, u_9_9, u_intermediate_9_8)), dt, uinitial_9_8),\n",
       " 'u_9_9': int(mult(const(4), sum(u_8_9, u_0_9, u_9_8, u_9_0, u_intermediate_9_9)), dt, uinitial_9_9),\n",
       " 'u_intermediate_0_0': neg(mult(4, u_0_0)),\n",
       " 'u_intermediate_0_1': neg(mult(4, u_0_1)),\n",
       " 'u_intermediate_0_2': neg(mult(4, u_0_2)),\n",
       " 'u_intermediate_0_3': neg(mult(4, u_0_3)),\n",
       " 'u_intermediate_0_4': neg(mult(4, u_0_4)),\n",
       " 'u_intermediate_0_5': neg(mult(4, u_0_5)),\n",
       " 'u_intermediate_0_6': neg(mult(4, u_0_6)),\n",
       " 'u_intermediate_0_7': neg(mult(4, u_0_7)),\n",
       " 'u_intermediate_0_8': neg(mult(4, u_0_8)),\n",
       " 'u_intermediate_0_9': neg(mult(4, u_0_9)),\n",
       " 'u_intermediate_1_0': neg(mult(4, u_1_0)),\n",
       " 'u_intermediate_1_1': neg(mult(4, u_1_1)),\n",
       " 'u_intermediate_1_2': neg(mult(4, u_1_2)),\n",
       " 'u_intermediate_1_3': neg(mult(4, u_1_3)),\n",
       " 'u_intermediate_1_4': neg(mult(4, u_1_4)),\n",
       " 'u_intermediate_1_5': neg(mult(4, u_1_5)),\n",
       " 'u_intermediate_1_6': neg(mult(4, u_1_6)),\n",
       " 'u_intermediate_1_7': neg(mult(4, u_1_7)),\n",
       " 'u_intermediate_1_8': neg(mult(4, u_1_8)),\n",
       " 'u_intermediate_1_9': neg(mult(4, u_1_9)),\n",
       " 'u_intermediate_2_0': neg(mult(4, u_2_0)),\n",
       " 'u_intermediate_2_1': neg(mult(4, u_2_1)),\n",
       " 'u_intermediate_2_2': neg(mult(4, u_2_2)),\n",
       " 'u_intermediate_2_3': neg(mult(4, u_2_3)),\n",
       " 'u_intermediate_2_4': neg(mult(4, u_2_4)),\n",
       " 'u_intermediate_2_5': neg(mult(4, u_2_5)),\n",
       " 'u_intermediate_2_6': neg(mult(4, u_2_6)),\n",
       " 'u_intermediate_2_7': neg(mult(4, u_2_7)),\n",
       " 'u_intermediate_2_8': neg(mult(4, u_2_8)),\n",
       " 'u_intermediate_2_9': neg(mult(4, u_2_9)),\n",
       " 'u_intermediate_3_0': neg(mult(4, u_3_0)),\n",
       " 'u_intermediate_3_1': neg(mult(4, u_3_1)),\n",
       " 'u_intermediate_3_2': neg(mult(4, u_3_2)),\n",
       " 'u_intermediate_3_3': neg(mult(4, u_3_3)),\n",
       " 'u_intermediate_3_4': neg(mult(4, u_3_4)),\n",
       " 'u_intermediate_3_5': neg(mult(4, u_3_5)),\n",
       " 'u_intermediate_3_6': neg(mult(4, u_3_6)),\n",
       " 'u_intermediate_3_7': neg(mult(4, u_3_7)),\n",
       " 'u_intermediate_3_8': neg(mult(4, u_3_8)),\n",
       " 'u_intermediate_3_9': neg(mult(4, u_3_9)),\n",
       " 'u_intermediate_4_0': neg(mult(4, u_4_0)),\n",
       " 'u_intermediate_4_1': neg(mult(4, u_4_1)),\n",
       " 'u_intermediate_4_2': neg(mult(4, u_4_2)),\n",
       " 'u_intermediate_4_3': neg(mult(4, u_4_3)),\n",
       " 'u_intermediate_4_4': neg(mult(4, u_4_4)),\n",
       " 'u_intermediate_4_5': neg(mult(4, u_4_5)),\n",
       " 'u_intermediate_4_6': neg(mult(4, u_4_6)),\n",
       " 'u_intermediate_4_7': neg(mult(4, u_4_7)),\n",
       " 'u_intermediate_4_8': neg(mult(4, u_4_8)),\n",
       " 'u_intermediate_4_9': neg(mult(4, u_4_9)),\n",
       " 'u_intermediate_5_0': neg(mult(4, u_5_0)),\n",
       " 'u_intermediate_5_1': neg(mult(4, u_5_1)),\n",
       " 'u_intermediate_5_2': neg(mult(4, u_5_2)),\n",
       " 'u_intermediate_5_3': neg(mult(4, u_5_3)),\n",
       " 'u_intermediate_5_4': neg(mult(4, u_5_4)),\n",
       " 'u_intermediate_5_5': neg(mult(4, u_5_5)),\n",
       " 'u_intermediate_5_6': neg(mult(4, u_5_6)),\n",
       " 'u_intermediate_5_7': neg(mult(4, u_5_7)),\n",
       " 'u_intermediate_5_8': neg(mult(4, u_5_8)),\n",
       " 'u_intermediate_5_9': neg(mult(4, u_5_9)),\n",
       " 'u_intermediate_6_0': neg(mult(4, u_6_0)),\n",
       " 'u_intermediate_6_1': neg(mult(4, u_6_1)),\n",
       " 'u_intermediate_6_2': neg(mult(4, u_6_2)),\n",
       " 'u_intermediate_6_3': neg(mult(4, u_6_3)),\n",
       " 'u_intermediate_6_4': neg(mult(4, u_6_4)),\n",
       " 'u_intermediate_6_5': neg(mult(4, u_6_5)),\n",
       " 'u_intermediate_6_6': neg(mult(4, u_6_6)),\n",
       " 'u_intermediate_6_7': neg(mult(4, u_6_7)),\n",
       " 'u_intermediate_6_8': neg(mult(4, u_6_8)),\n",
       " 'u_intermediate_6_9': neg(mult(4, u_6_9)),\n",
       " 'u_intermediate_7_0': neg(mult(4, u_7_0)),\n",
       " 'u_intermediate_7_1': neg(mult(4, u_7_1)),\n",
       " 'u_intermediate_7_2': neg(mult(4, u_7_2)),\n",
       " 'u_intermediate_7_3': neg(mult(4, u_7_3)),\n",
       " 'u_intermediate_7_4': neg(mult(4, u_7_4)),\n",
       " 'u_intermediate_7_5': neg(mult(4, u_7_5)),\n",
       " 'u_intermediate_7_6': neg(mult(4, u_7_6)),\n",
       " 'u_intermediate_7_7': neg(mult(4, u_7_7)),\n",
       " 'u_intermediate_7_8': neg(mult(4, u_7_8)),\n",
       " 'u_intermediate_7_9': neg(mult(4, u_7_9)),\n",
       " 'u_intermediate_8_0': neg(mult(4, u_8_0)),\n",
       " 'u_intermediate_8_1': neg(mult(4, u_8_1)),\n",
       " 'u_intermediate_8_2': neg(mult(4, u_8_2)),\n",
       " 'u_intermediate_8_3': neg(mult(4, u_8_3)),\n",
       " 'u_intermediate_8_4': neg(mult(4, u_8_4)),\n",
       " 'u_intermediate_8_5': neg(mult(4, u_8_5)),\n",
       " 'u_intermediate_8_6': neg(mult(4, u_8_6)),\n",
       " 'u_intermediate_8_7': neg(mult(4, u_8_7)),\n",
       " 'u_intermediate_8_8': neg(mult(4, u_8_8)),\n",
       " 'u_intermediate_8_9': neg(mult(4, u_8_9)),\n",
       " 'u_intermediate_9_0': neg(mult(4, u_9_0)),\n",
       " 'u_intermediate_9_1': neg(mult(4, u_9_1)),\n",
       " 'u_intermediate_9_2': neg(mult(4, u_9_2)),\n",
       " 'u_intermediate_9_3': neg(mult(4, u_9_3)),\n",
       " 'u_intermediate_9_4': neg(mult(4, u_9_4)),\n",
       " 'u_intermediate_9_5': neg(mult(4, u_9_5)),\n",
       " 'u_intermediate_9_6': neg(mult(4, u_9_6)),\n",
       " 'u_intermediate_9_7': neg(mult(4, u_9_7)),\n",
       " 'u_intermediate_9_8': neg(mult(4, u_9_8)),\n",
       " 'u_intermediate_9_9': neg(mult(4, u_9_9)),\n",
       " 'uinitial_0_0': const(0),\n",
       " 'uinitial_0_1': const(0),\n",
       " 'uinitial_0_2': const(0),\n",
       " 'uinitial_0_3': const(0),\n",
       " 'uinitial_0_4': const(0),\n",
       " 'uinitial_0_5': const(0),\n",
       " 'uinitial_0_6': const(0),\n",
       " 'uinitial_0_7': const(0),\n",
       " 'uinitial_0_8': const(0),\n",
       " 'uinitial_0_9': const(0),\n",
       " 'uinitial_1_0': const(0),\n",
       " 'uinitial_1_1': const(0),\n",
       " 'uinitial_1_2': const(0),\n",
       " 'uinitial_1_3': const(0),\n",
       " 'uinitial_1_4': const(0),\n",
       " 'uinitial_1_5': const(0),\n",
       " 'uinitial_1_6': const(0),\n",
       " 'uinitial_1_7': const(0),\n",
       " 'uinitial_1_8': const(0),\n",
       " 'uinitial_1_9': const(0),\n",
       " 'uinitial_2_0': const(0),\n",
       " 'uinitial_2_1': const(0),\n",
       " 'uinitial_2_2': const(0),\n",
       " 'uinitial_2_3': const(0),\n",
       " 'uinitial_2_4': const(0),\n",
       " 'uinitial_2_5': const(0),\n",
       " 'uinitial_2_6': const(0),\n",
       " 'uinitial_2_7': const(0),\n",
       " 'uinitial_2_8': const(0),\n",
       " 'uinitial_2_9': const(0),\n",
       " 'uinitial_3_0': const(0),\n",
       " 'uinitial_3_1': const(0),\n",
       " 'uinitial_3_2': const(0),\n",
       " 'uinitial_3_3': const(0),\n",
       " 'uinitial_3_4': const(0),\n",
       " 'uinitial_3_5': const(0),\n",
       " 'uinitial_3_6': const(0),\n",
       " 'uinitial_3_7': const(0),\n",
       " 'uinitial_3_8': const(0),\n",
       " 'uinitial_3_9': const(0),\n",
       " 'uinitial_4_0': const(0),\n",
       " 'uinitial_4_1': const(0),\n",
       " 'uinitial_4_2': const(0),\n",
       " 'uinitial_4_3': const(0),\n",
       " 'uinitial_4_4': const(0),\n",
       " 'uinitial_4_5': const(0),\n",
       " 'uinitial_4_6': const(0),\n",
       " 'uinitial_4_7': const(0),\n",
       " 'uinitial_4_8': const(0),\n",
       " 'uinitial_4_9': const(0),\n",
       " 'uinitial_5_0': const(0),\n",
       " 'uinitial_5_1': const(0),\n",
       " 'uinitial_5_2': const(0),\n",
       " 'uinitial_5_3': const(0),\n",
       " 'uinitial_5_4': const(0),\n",
       " 'uinitial_5_5': const(1),\n",
       " 'uinitial_5_6': const(0),\n",
       " 'uinitial_5_7': const(0),\n",
       " 'uinitial_5_8': const(0),\n",
       " 'uinitial_5_9': const(0),\n",
       " 'uinitial_6_0': const(0),\n",
       " 'uinitial_6_1': const(0),\n",
       " 'uinitial_6_2': const(0),\n",
       " 'uinitial_6_3': const(0),\n",
       " 'uinitial_6_4': const(0),\n",
       " 'uinitial_6_5': const(0),\n",
       " 'uinitial_6_6': const(0),\n",
       " 'uinitial_6_7': const(0),\n",
       " 'uinitial_6_8': const(0),\n",
       " 'uinitial_6_9': const(0),\n",
       " 'uinitial_7_0': const(0),\n",
       " 'uinitial_7_1': const(0),\n",
       " 'uinitial_7_2': const(0),\n",
       " 'uinitial_7_3': const(0),\n",
       " 'uinitial_7_4': const(0),\n",
       " 'uinitial_7_5': const(0),\n",
       " 'uinitial_7_6': const(0),\n",
       " 'uinitial_7_7': const(0),\n",
       " 'uinitial_7_8': const(0),\n",
       " 'uinitial_7_9': const(0),\n",
       " 'uinitial_8_0': const(0),\n",
       " 'uinitial_8_1': const(0),\n",
       " 'uinitial_8_2': const(0),\n",
       " 'uinitial_8_3': const(0),\n",
       " 'uinitial_8_4': const(0),\n",
       " 'uinitial_8_5': const(0),\n",
       " 'uinitial_8_6': const(0),\n",
       " 'uinitial_8_7': const(0),\n",
       " 'uinitial_8_8': const(0),\n",
       " 'uinitial_8_9': const(0),\n",
       " 'uinitial_9_0': const(0),\n",
       " 'uinitial_9_1': const(0),\n",
       " 'uinitial_9_2': const(0),\n",
       " 'uinitial_9_3': const(0),\n",
       " 'uinitial_9_4': const(0),\n",
       " 'uinitial_9_5': const(0),\n",
       " 'uinitial_9_6': const(0),\n",
       " 'uinitial_9_7': const(0),\n",
       " 'uinitial_9_8': const(0),\n",
       " 'uinitial_9_9': const(0)})"
      ]
     },
     "execution_count": 35,
     "metadata": {},
     "output_type": "execute_result"
    }
   ],
   "source": [
    "state"
   ]
  },
  {
   "cell_type": "code",
   "execution_count": 36,
   "metadata": {},
   "outputs": [],
   "source": [
    "c_code = state.export(to=\"C\")\n",
    "compile(c_code, \"heateq2d.cpp\")"
   ]
  },
  {
   "cell_type": "code",
   "execution_count": 37,
   "metadata": {},
   "outputs": [
    {
     "name": "stdout",
     "output_type": "stream",
     "text": [
      "Running: ./a.out --max_iterations=400\n"
     ]
    }
   ],
   "source": [
    "data = run(arguments={'max_iterations':400})"
   ]
  },
  {
   "cell_type": "code",
   "execution_count": 38,
   "metadata": {},
   "outputs": [
    {
     "data": {
      "image/png": "[encoded data removed]",
      "text/plain": [
       "<Figure size 2880x1440 with 1 Axes>"
      ]
     },
     "metadata": {
      "needs_background": "light"
     },
     "output_type": "display_data"
    }
   ],
   "source": [
    "for i,j in ndindex(NN):\n",
    "    plot(data[f\"u_{i}_{j}\"])"
   ]
  },
  {
   "cell_type": "code",
   "execution_count": 39,
   "metadata": {},
   "outputs": [
    {
     "data": {
      "text/plain": [
       "(10, 10, 400)"
      ]
     },
     "execution_count": 39,
     "metadata": {},
     "output_type": "execute_result"
    }
   ],
   "source": [
    "heat = array([data[f\"u_{i}_{j}\"] for i,j in ndindex(NN)]).reshape((N,N,len(data)))\n",
    "heat.shape"
   ]
  },
  {
   "cell_type": "markdown",
   "metadata": {},
   "source": [
    "The physical recovery of the digital data is not so easy to inspect, since the two spatial dimensions would require to make a movie in order to display the time evolution. What we do instead here is to show the first snapshot and the last one.\n",
    "\n",
    "In the following two figures, the *x* and *y* axis correspond to their physical coordinates. These are *still images* for $t=0$ and $t=t_\\text{final}$."
   ]
  },
  {
   "cell_type": "code",
   "execution_count": 22,
   "metadata": {},
   "outputs": [
    {
     "data": {
      "text/plain": [
       "<matplotlib.image.AxesImage at 0x7f7fd5956ac0>"
      ]
     },
     "execution_count": 22,
     "metadata": {},
     "output_type": "execute_result"
    },
    {
     "data": {
      "image/png": "[encoded data removed]",
      "text/plain": [
       "<Figure size 2880x1440 with 1 Axes>"
      ]
     },
     "metadata": {
      "needs_background": "light"
     },
     "output_type": "display_data"
    }
   ],
   "source": [
    "rcParams[\"figure.figsize\"] = (40,20)\n",
    "imshow(heat[:,:,0])"
   ]
  },
  {
   "cell_type": "code",
   "execution_count": 23,
   "metadata": {},
   "outputs": [
    {
     "data": {
      "text/plain": [
       "<matplotlib.image.AxesImage at 0x7f7fd59675e0>"
      ]
     },
     "execution_count": 23,
     "metadata": {},
     "output_type": "execute_result"
    },
    {
     "data": {
      "image/png": "[encoded data removed]",
      "text/plain": [
       "<Figure size 2880x1440 with 1 Axes>"
      ]
     },
     "metadata": {
      "needs_background": "light"
     },
     "output_type": "display_data"
    }
   ],
   "source": [
    "imshow(heat[:,:,-1])"
   ]
  },
  {
   "cell_type": "markdown",
   "metadata": {},
   "source": [
    "In order to provide a final discussion, what is visible here is the dissipation of heat from a single maximum to the whole simulation domain.\n",
    "\n",
    "With this, we end the demonstration notebook about the heat equation in DDA.\n",
    "\n",
    "### About this notebook\n",
    "\n",
    "This notebook was written during a two hour phone call as an interactive demonstration how to do high-level programming with DDA. "
   ]
  }
 ],
 "metadata": {
  "kernelspec": {
   "display_name": "Python 3",
   "language": "python",
   "name": "python3"
  },
  "language_info": {
   "codemirror_mode": {
    "name": "ipython",
    "version": 3
   },
   "file_extension": ".py",
   "mimetype": "text/x-python",
   "name": "python",
   "nbconvert_exporter": "python",
   "pygments_lexer": "ipython3",
   "version": "3.8.5"
  }
 },
 "nbformat": 4,
 "nbformat_minor": 4
}
