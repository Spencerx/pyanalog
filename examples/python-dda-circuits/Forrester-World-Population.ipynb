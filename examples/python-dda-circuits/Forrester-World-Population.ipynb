{
 "cells": [
  {
   "cell_type": "markdown",
   "metadata": {},
   "source": [
    "# Forrester's World Dynamics Model in DDA\n",
    "\n",
    "This python notebook demonstrates how to write a popular historic model of world population in DDA. This work is based on the 2020 review of Olga Pronchev and Sergey Makhov: *J. FORRESTER’S MODELOF WORLD DYNAMICS AND ITS DEVELOPMENT*. It can be found at https://pdfs.semanticscholar.org/7274/864d1d8a573e1507822343b7ce4b367251f8.pdf, for instance.\n",
    "\n",
    "\n",
    "The model we want to implement here is given by a set of coupled nonlinear differential equations:\n",
    "\n",
    "\\begin{align}\n",
    "\\dot P &= P \\cdot (c_B B_C B_P B_F B_Z - c_D D_C D_P D_F D_Z) \\\\\n",
    "\\dot K &= c_K P \\cdot K_C - \\frac K {T_K} \\\\\n",
    "\\dot X &= \\frac{X_F X_Q - X}{T_X} \\\\\n",
    "\\dot Z &= P\\cdot Z_K - \\frac Z {T_Z} \\\\\n",
    "\\dot R &= - P\\cdot R_c\n",
    "\\end{align}\n",
    "\n",
    "Here, $\\dot{x}$ denotes the time derivative $\\mathrm{d}\\,x/\\mathrm{d}t$  of a time dependent function $x(t)$. This equation is written already in a primitive form where the right hand sides of the equation do not contain any derivatives at all. It is an ordinary differential equation, because there are only derivatives with respect to time. The quantities on the left hand sides, i.e. $P, K, Z, X$ and $R$, are called *evolution equantities*. \n",
    "\n",
    "Let's collect all symbols which occur in the above equation system.  We will do so in Python just in order to define some variables. These are (sorted by their order of occurance):"
   ]
  },
  {
   "cell_type": "code",
   "execution_count": 4,
   "metadata": {},
   "outputs": [],
   "source": [
    "# Differential equation for P (1st line)\n",
    "P = \"Population\"\n",
    "c_B = 0.04   # normal fertility rate\n",
    "B_C = \"I don't know...\"\n",
    "B_P = \"I don't know...\"\n",
    "B_F = \"I don't know...\"\n",
    "B_Z = \"I don't know...\"\n",
    "c_D = 0.028 # normal death rate\n",
    "D_C = \"I don't know...\"\n",
    "D_P = \"I don't know...\"\n",
    "D_F = \"I don't know...\"\n",
    "D_Z = \"I don't know...\"\n",
    "\n",
    "# Differential equation for K (2nd line)\n",
    "K = \"Fixed capital\"\n",
    "c_K = 0.05 # normal rate of capital\n",
    "K_C = \"I dont know...\"\n",
    "T_K = 40  # time of deprecation main funds\n",
    "\n",
    "# Differential equation for X (3rd line)\n",
    "X = \"Capital investment in agriculture fraction\"\n",
    "X_F = \"I don't know...\"\n",
    "X_Q = \"I don't know...\"\n",
    "T_X = 15  # time of deprecation agricultural funds\n",
    "\n",
    "\n",
    "# Differential equation for Z (4th line)\n",
    "Z = \"Pollution\"\n",
    "Z_K = \"I dont know...\"\n",
    "T_Z = \"I don't know...\"\n",
    "\n",
    "# Differential equation for R (5th line)\n",
    "R = \"Natural Ressources\"\n",
    "R_C = \"I don't know...\""
   ]
  },
  {
   "cell_type": "markdown",
   "metadata": {},
   "source": [
    "The text furthermore provides the *initial data* (starting values) for the evolution quantities. It actually provides a complete set of initial data $P_0, K_0, X_0, Z_0, R_0$ and another incompaitble and incomplete set $P_N, X_N$. The first one is for the year $t_0 = 1970$ AD and the other for $t_N=1970$ AD.\n",
    "\n",
    "In order to mathematically evolve these equations -- either with an analog computer or with a numerical simulation -- we need values for *all* constants which occur. Unfortunately, we only have a couple of constants given, whereas the majority of symbols is no further defined.\n",
    "\n",
    "Without any further references, I can only speculate that these symbols could be time-dependent functions which are given by tabular data. Or they just could be constants.\n",
    "\n",
    "The references given in the paper all refer to russian literature, which is a bit unfortunate."
   ]
  },
  {
   "cell_type": "code",
   "execution_count": null,
   "metadata": {},
   "outputs": [],
   "source": []
  }
 ],
 "metadata": {
  "kernelspec": {
   "display_name": "Python 3",
   "language": "python",
   "name": "python3"
  },
  "language_info": {
   "codemirror_mode": {
    "name": "ipython",
    "version": 3
   },
   "file_extension": ".py",
   "mimetype": "text/x-python",
   "name": "python",
   "nbconvert_exporter": "python",
   "pygments_lexer": "ipython3",
   "version": "3.8.6"
  }
 },
 "nbformat": 4,
 "nbformat_minor": 4
}
