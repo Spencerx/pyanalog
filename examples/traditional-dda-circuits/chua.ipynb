{
 "cells": [
  {
   "cell_type": "markdown",
   "metadata": {},
   "source": [
    "# DDA walkthrought example: Chua attractor\n",
    "\n",
    "What follows is an example of the Chua attractor. It is described in the [Analog Paradigm Application Note 3](http://analogparadigm.com/downloads/alpaca_3.pdf) as well as in section 6.15 in Bernd's new book (Analog Programming II). The attractor is described by a coupled set of three ordinary differential equations,\n",
    "\n",
    "$$\n",
    "  \\dot x = c_1 (y-x-f(x)) \\\\\n",
    "  \\dot y = c_2 (x-y+z) \\\\\n",
    "  \\dot z = -c_3 y\n",
    "$$\n",
    "\n",
    "with $f(x)$ a simple function decribing the Chua diode (given algebraically) and a number of parameters $c_{1,2,3}$. What follows is the scaling of these equations. The resulting set of equations is slightly more verbose. It's implementation is given in the following *traditional DDA* file:"
   ]
  },
  {
   "cell_type": "code",
   "execution_count": 1,
   "metadata": {},
   "outputs": [
    {
     "name": "stdout",
     "output_type": "stream",
     "text": [
      "# Chua attractor, chapter 6.15 from Bernds book ap2.pdf\r\n",
      "# Below is the scaled version (equations 6.40-6.51)\r\n",
      "\r\n",
      "x0 = const(0.1)\r\n",
      "x1 = mult(-10, neg(sum(x, fx)))\r\n",
      "x2 = neg(sum(y, mult(0.5, x1)))\r\n",
      "x  = neg(sum(mult(3.12, neg(int(x2, dt, 0))), x0))\r\n",
      "\r\n",
      "y1 = neg(sum(z, neg(mult(0.125, y))))\r\n",
      "y2 = neg(sum(mult(1.25, x), mult(2, y1)))\r\n",
      "y  = mult(4, neg(int(y2, dt, 0)))\r\n",
      "\r\n",
      "z  = int(mult(3.5, y), dt, 0)\r\n",
      "\r\n",
      "f1 = abs(sum(mult(0.7143,x),  0.2857))\r\n",
      "f2 = abs(sum(mult(0.7143,x), -0.2857))\r\n",
      "f3 = neg(sum(f1, neg(f2)))\r\n",
      "fx = sum(mult(0.714, x), mult(0.3003, f3))\r\n",
      "\r\n",
      "dt = const(0.001)\r\n"
     ]
    }
   ],
   "source": [
    "!cat chua.dda"
   ]
  },
  {
   "cell_type": "markdown",
   "metadata": {},
   "source": [
    "In the following, we use the PyDDA library to read in this DDA file and demonstrate the internal representation."
   ]
  },
  {
   "cell_type": "code",
   "execution_count": 2,
   "metadata": {},
   "outputs": [
    {
     "data": {
      "text/plain": [
       "State({'dt': const(0.001),\n",
       " 'f1': abs(sum(mult(0.7143, x), 0.2857)),\n",
       " 'f2': abs(sum(mult(0.7143, x), -0.2857)),\n",
       " 'f3': neg(sum(f1, neg(f2))),\n",
       " 'fx': sum(mult(0.714, x), mult(0.3003, f3)),\n",
       " 'x': neg(sum(mult(3.12, neg(int(x2, dt, 0))), x0)),\n",
       " 'x0': const(0.1),\n",
       " 'x1': mult(-10, neg(sum(x, fx))),\n",
       " 'x2': neg(sum(y, mult(0.5, x1))),\n",
       " 'y': mult(4, neg(int(y2, dt, 0))),\n",
       " 'y1': neg(sum(z, neg(mult(0.125, y)))),\n",
       " 'y2': neg(sum(mult(1.25, x), mult(2, y1))),\n",
       " 'z': int(mult(3.5, y), dt, 0)})"
      ]
     },
     "execution_count": 2,
     "metadata": {},
     "output_type": "execute_result"
    }
   ],
   "source": [
    "from dda.dsl import read_traditional_dda\n",
    "chua_text = open(\"chua.dda\").read()\n",
    "state = read_traditional_dda(chua_text)\n",
    "state"
   ]
  },
  {
   "cell_type": "markdown",
   "metadata": {},
   "source": [
    "## Syntax trees: Down into the rabbit hole"
   ]
  },
  {
   "cell_type": "markdown",
   "metadata": {},
   "source": [
    "Obviously, the output of the internal data structure *state* and the DDA file itself does not differ so much. That is by intention, both look quite pythonic. The state itself is basically a dictionary (mapping) from strings (the left hand sides in the DDA file) to the expressions (their right hand sides). Let's inspect such an expression."
   ]
  },
  {
   "cell_type": "code",
   "execution_count": 3,
   "metadata": {},
   "outputs": [
    {
     "data": {
      "text/plain": [
       "int(mult(3.5, y), dt, 0)"
      ]
     },
     "execution_count": 3,
     "metadata": {},
     "output_type": "execute_result"
    }
   ],
   "source": [
    "state[\"z\"]"
   ]
  },
  {
   "cell_type": "code",
   "execution_count": 4,
   "metadata": {},
   "outputs": [
    {
     "data": {
      "text/plain": [
       "dda.ast.Symbol"
      ]
     },
     "execution_count": 4,
     "metadata": {},
     "output_type": "execute_result"
    }
   ],
   "source": [
    "type(state[\"z\"])"
   ]
  },
  {
   "cell_type": "code",
   "execution_count": 5,
   "metadata": {},
   "outputs": [
    {
     "name": "stdout",
     "output_type": "stream",
     "text": [
      "int\n",
      "(mult(3.5, y), dt, 0)\n"
     ]
    }
   ],
   "source": [
    "print(state[\"z\"].head)\n",
    "print(state[\"z\"].tail)"
   ]
  },
  {
   "cell_type": "markdown",
   "metadata": {},
   "source": [
    "What we are actually looking at is the PyDDA-representation of a mathematical expression tree. We can visualize this tree:"
   ]
  },
  {
   "cell_type": "code",
   "execution_count": 6,
   "metadata": {},
   "outputs": [
    {
     "data": {
      "image/svg+xml": [
       "<?xml version=\"1.0\" encoding=\"UTF-8\" standalone=\"no\"?>\n",
       "<!DOCTYPE svg PUBLIC \"-//W3C//DTD SVG 1.1//EN\"\n",
       " \"http://www.w3.org/Graphics/SVG/1.1/DTD/svg11.dtd\">\n",
       "<!-- Generated by graphviz version 2.44.1 (0)\n",
       " -->\n",
       "<!-- Title: DDA&#45;Symbol Pages: 1 -->\n",
       "<svg width=\"208pt\" height=\"235pt\"\n",
       " viewBox=\"0.00 0.00 208.10 235.09\" xmlns=\"http://www.w3.org/2000/svg\" xmlns:xlink=\"http://www.w3.org/1999/xlink\">\n",
       "<g id=\"graph0\" class=\"graph\" transform=\"scale(1 1) rotate(0) translate(4 231.09)\">\n",
       "<title>DDA&#45;Symbol</title>\n",
       "<polygon fill=\"white\" stroke=\"transparent\" points=\"-4,4 -4,-231.09 204.1,-231.09 204.1,4 -4,4\"/>\n",
       "<!-- int -->\n",
       "<g id=\"node1\" class=\"node\">\n",
       "<title>int</title>\n",
       "<ellipse fill=\"none\" stroke=\"black\" cx=\"124.1\" cy=\"-202.94\" rx=\"20.27\" ry=\"20.27\"/>\n",
       "<ellipse fill=\"none\" stroke=\"black\" cx=\"124.1\" cy=\"-202.94\" rx=\"24.3\" ry=\"24.3\"/>\n",
       "<text text-anchor=\"middle\" x=\"124.1\" y=\"-199.24\" font-family=\"Times,serif\" font-size=\"14.00\">int</text>\n",
       "</g>\n",
       "<!-- mult -->\n",
       "<g id=\"node2\" class=\"node\">\n",
       "<title>mult</title>\n",
       "<ellipse fill=\"none\" stroke=\"black\" cx=\"53.1\" cy=\"-111.49\" rx=\"27.12\" ry=\"27.12\"/>\n",
       "<ellipse fill=\"none\" stroke=\"black\" cx=\"53.1\" cy=\"-111.49\" rx=\"31.1\" ry=\"31.1\"/>\n",
       "<text text-anchor=\"middle\" x=\"53.1\" y=\"-107.79\" font-family=\"Times,serif\" font-size=\"14.00\">mult</text>\n",
       "</g>\n",
       "<!-- int&#45;&gt;mult -->\n",
       "<g id=\"edge3\" class=\"edge\">\n",
       "<title>int&#45;&gt;mult</title>\n",
       "<path fill=\"none\" stroke=\"black\" d=\"M109.39,-183.41C100.44,-172.13 88.77,-157.44 78.38,-144.34\"/>\n",
       "<polygon fill=\"black\" stroke=\"black\" points=\"81.07,-142.1 72.11,-136.45 75.59,-146.46 81.07,-142.1\"/>\n",
       "</g>\n",
       "<!-- dt -->\n",
       "<g id=\"node5\" class=\"node\">\n",
       "<title>dt</title>\n",
       "<ellipse fill=\"none\" stroke=\"black\" cx=\"124.1\" cy=\"-111.49\" rx=\"18\" ry=\"18\"/>\n",
       "<ellipse fill=\"none\" stroke=\"black\" cx=\"124.1\" cy=\"-111.49\" rx=\"22\" ry=\"22\"/>\n",
       "<text text-anchor=\"middle\" x=\"124.1\" y=\"-107.79\" font-family=\"Times,serif\" font-size=\"14.00\">dt</text>\n",
       "</g>\n",
       "<!-- int&#45;&gt;dt -->\n",
       "<g id=\"edge4\" class=\"edge\">\n",
       "<title>int&#45;&gt;dt</title>\n",
       "<path fill=\"none\" stroke=\"black\" d=\"M124.1,-178.44C124.1,-167.82 124.1,-155.12 124.1,-143.71\"/>\n",
       "<polygon fill=\"black\" stroke=\"black\" points=\"127.6,-143.7 124.1,-133.7 120.6,-143.7 127.6,-143.7\"/>\n",
       "</g>\n",
       "<!-- 0 -->\n",
       "<g id=\"node6\" class=\"node\">\n",
       "<title>0</title>\n",
       "<ellipse fill=\"none\" stroke=\"black\" cx=\"182.1\" cy=\"-111.49\" rx=\"18\" ry=\"18\"/>\n",
       "<text text-anchor=\"middle\" x=\"182.1\" y=\"-107.79\" font-family=\"Times,serif\" font-size=\"14.00\">0</text>\n",
       "</g>\n",
       "<!-- int&#45;&gt;0 -->\n",
       "<g id=\"edge5\" class=\"edge\">\n",
       "<title>int&#45;&gt;0</title>\n",
       "<path fill=\"none\" stroke=\"black\" d=\"M136.97,-182.09C145.84,-168.41 157.66,-150.18 166.98,-135.81\"/>\n",
       "<polygon fill=\"black\" stroke=\"black\" points=\"170.18,-137.3 172.69,-127.01 164.31,-133.49 170.18,-137.3\"/>\n",
       "</g>\n",
       "<!-- 3.5 -->\n",
       "<g id=\"node3\" class=\"node\">\n",
       "<title>3.5</title>\n",
       "<ellipse fill=\"none\" stroke=\"black\" cx=\"22.1\" cy=\"-22.1\" rx=\"22.2\" ry=\"22.2\"/>\n",
       "<text text-anchor=\"middle\" x=\"22.1\" y=\"-18.4\" font-family=\"Times,serif\" font-size=\"14.00\">3.5</text>\n",
       "</g>\n",
       "<!-- mult&#45;&gt;3.5 -->\n",
       "<g id=\"edge1\" class=\"edge\">\n",
       "<title>mult&#45;&gt;3.5</title>\n",
       "<path fill=\"none\" stroke=\"black\" d=\"M42.95,-81.88C39.65,-72.59 35.99,-62.27 32.67,-52.9\"/>\n",
       "<polygon fill=\"black\" stroke=\"black\" points=\"35.87,-51.45 29.23,-43.2 29.27,-53.79 35.87,-51.45\"/>\n",
       "</g>\n",
       "<!-- y -->\n",
       "<g id=\"node4\" class=\"node\">\n",
       "<title>y</title>\n",
       "<ellipse fill=\"none\" stroke=\"black\" cx=\"84.1\" cy=\"-22.1\" rx=\"18\" ry=\"18\"/>\n",
       "<ellipse fill=\"none\" stroke=\"black\" cx=\"84.1\" cy=\"-22.1\" rx=\"22\" ry=\"22\"/>\n",
       "<text text-anchor=\"middle\" x=\"84.1\" y=\"-18.4\" font-family=\"Times,serif\" font-size=\"14.00\">y</text>\n",
       "</g>\n",
       "<!-- mult&#45;&gt;y -->\n",
       "<g id=\"edge2\" class=\"edge\">\n",
       "<title>mult&#45;&gt;y</title>\n",
       "<path fill=\"none\" stroke=\"black\" d=\"M63.25,-81.88C66.54,-72.59 70.2,-62.27 73.53,-52.9\"/>\n",
       "<polygon fill=\"black\" stroke=\"black\" points=\"76.92,-53.79 76.97,-43.2 70.33,-51.45 76.92,-53.79\"/>\n",
       "</g>\n",
       "</g>\n",
       "</svg>\n"
      ],
      "text/plain": [
       "<graphviz.dot.Digraph at 0x7f13004c9280>"
      ]
     },
     "execution_count": 6,
     "metadata": {},
     "output_type": "execute_result"
    }
   ],
   "source": [
    "state[\"z\"].draw_graph()"
   ]
  },
  {
   "cell_type": "markdown",
   "metadata": {},
   "source": [
    "Given this, we can compute the dependencies of all variables in the sytem:"
   ]
  },
  {
   "cell_type": "code",
   "execution_count": 29,
   "metadata": {},
   "outputs": [
    {
     "data": {
      "text/plain": [
       "<networkx.classes.digraph.DiGraph at 0x7f12de49d0d0>"
      ]
     },
     "execution_count": 29,
     "metadata": {},
     "output_type": "execute_result"
    }
   ],
   "source": [
    "graph = state.draw_dependency_graph(export_dot=False)\n",
    "graph"
   ]
  },
  {
   "cell_type": "code",
   "execution_count": 30,
   "metadata": {},
   "outputs": [
    {
     "data": {
      "image/png": "[encoded data removed]",
      "text/plain": [
       "<Figure size 432x288 with 1 Axes>"
      ]
     },
     "metadata": {},
     "output_type": "display_data"
    }
   ],
   "source": [
    "# Draw the graph with matlotlib\n",
    "from networkx.drawing.nx_agraph import graphviz_layout\n",
    "pos = graphviz_layout(graph)\n",
    "nx.draw(graph, pos=pos)"
   ]
  },
  {
   "cell_type": "code",
   "execution_count": 31,
   "metadata": {},
   "outputs": [],
   "source": [
    "# draw the graph with graphviz (requires pydot,graphviz)\n",
    "from networkx.drawing.nx_pydot import to_pydot\n",
    "from graphviz import Source\n",
    "nx2dot = lambda graph: Source(to_pydot(graph).to_string())"
   ]
  },
  {
   "cell_type": "code",
   "execution_count": 28,
   "metadata": {},
   "outputs": [
    {
     "data": {
      "image/svg+xml": [
       "<?xml version=\"1.0\" encoding=\"UTF-8\" standalone=\"no\"?>\n",
       "<!DOCTYPE svg PUBLIC \"-//W3C//DTD SVG 1.1//EN\"\n",
       " \"http://www.w3.org/Graphics/SVG/1.1/DTD/svg11.dtd\">\n",
       "<!-- Generated by graphviz version 2.44.1 (0)\n",
       " -->\n",
       "<!-- Pages: 1 -->\n",
       "<svg width=\"244pt\" height=\"764pt\"\n",
       " viewBox=\"0.00 0.00 243.51 764.00\" xmlns=\"http://www.w3.org/2000/svg\" xmlns:xlink=\"http://www.w3.org/1999/xlink\">\n",
       "<g id=\"graph0\" class=\"graph\" transform=\"scale(1 1) rotate(0) translate(4 760)\">\n",
       "<polygon fill=\"white\" stroke=\"transparent\" points=\"-4,4 -4,-760 239.51,-760 239.51,4 -4,4\"/>\n",
       "<!-- x1 -->\n",
       "<g id=\"node1\" class=\"node\">\n",
       "<title>x1</title>\n",
       "<ellipse fill=\"none\" stroke=\"black\" cx=\"103.51\" cy=\"-738\" rx=\"27\" ry=\"18\"/>\n",
       "<text text-anchor=\"middle\" x=\"103.51\" y=\"-734.3\" font-family=\"Times,serif\" font-size=\"14.00\">x1</text>\n",
       "</g>\n",
       "<!-- fx -->\n",
       "<g id=\"node2\" class=\"node\">\n",
       "<title>fx</title>\n",
       "<ellipse fill=\"none\" stroke=\"black\" cx=\"103.51\" cy=\"-666\" rx=\"27\" ry=\"18\"/>\n",
       "<text text-anchor=\"middle\" x=\"103.51\" y=\"-662.3\" font-family=\"Times,serif\" font-size=\"14.00\">fx</text>\n",
       "</g>\n",
       "<!-- x1&#45;&gt;fx -->\n",
       "<g id=\"edge1\" class=\"edge\">\n",
       "<title>x1&#45;&gt;fx</title>\n",
       "<path fill=\"none\" stroke=\"black\" d=\"M103.51,-719.7C103.51,-711.98 103.51,-702.71 103.51,-694.11\"/>\n",
       "<polygon fill=\"black\" stroke=\"black\" points=\"107.01,-694.1 103.51,-684.1 100.01,-694.1 107.01,-694.1\"/>\n",
       "</g>\n",
       "<!-- x -->\n",
       "<g id=\"node3\" class=\"node\">\n",
       "<title>x</title>\n",
       "<ellipse fill=\"none\" stroke=\"black\" cx=\"130.51\" cy=\"-450\" rx=\"27\" ry=\"18\"/>\n",
       "<text text-anchor=\"middle\" x=\"130.51\" y=\"-446.3\" font-family=\"Times,serif\" font-size=\"14.00\">x</text>\n",
       "</g>\n",
       "<!-- x1&#45;&gt;x -->\n",
       "<g id=\"edge2\" class=\"edge\">\n",
       "<title>x1&#45;&gt;x</title>\n",
       "<path fill=\"none\" stroke=\"black\" d=\"M117.52,-722.23C145.67,-691.39 208.33,-616.61 230.51,-540 234.96,-524.63 238.76,-517.71 230.51,-504 216.48,-480.68 188.36,-467.08 165.5,-459.51\"/>\n",
       "<polygon fill=\"black\" stroke=\"black\" points=\"166.35,-456.11 155.76,-456.53 164.3,-462.8 166.35,-456.11\"/>\n",
       "</g>\n",
       "<!-- fx&#45;&gt;x -->\n",
       "<g id=\"edge4\" class=\"edge\">\n",
       "<title>fx&#45;&gt;x</title>\n",
       "<path fill=\"none\" stroke=\"black\" d=\"M97.09,-648.43C86.53,-618.59 68.38,-554.23 86.51,-504 90.78,-492.17 98.97,-481.11 107.14,-472.19\"/>\n",
       "<polygon fill=\"black\" stroke=\"black\" points=\"109.74,-474.54 114.21,-464.93 104.73,-469.65 109.74,-474.54\"/>\n",
       "</g>\n",
       "<!-- f3 -->\n",
       "<g id=\"node13\" class=\"node\">\n",
       "<title>f3</title>\n",
       "<ellipse fill=\"none\" stroke=\"black\" cx=\"122.51\" cy=\"-594\" rx=\"27\" ry=\"18\"/>\n",
       "<text text-anchor=\"middle\" x=\"122.51\" y=\"-590.3\" font-family=\"Times,serif\" font-size=\"14.00\">f3</text>\n",
       "</g>\n",
       "<!-- fx&#45;&gt;f3 -->\n",
       "<g id=\"edge3\" class=\"edge\">\n",
       "<title>fx&#45;&gt;f3</title>\n",
       "<path fill=\"none\" stroke=\"black\" d=\"M108.11,-648.05C110.26,-640.14 112.86,-630.54 115.27,-621.69\"/>\n",
       "<polygon fill=\"black\" stroke=\"black\" points=\"118.71,-622.36 117.95,-611.79 111.96,-620.52 118.71,-622.36\"/>\n",
       "</g>\n",
       "<!-- x2 -->\n",
       "<g id=\"node4\" class=\"node\">\n",
       "<title>x2</title>\n",
       "<ellipse fill=\"none\" stroke=\"black\" cx=\"29.51\" cy=\"-378\" rx=\"27\" ry=\"18\"/>\n",
       "<text text-anchor=\"middle\" x=\"29.51\" y=\"-374.3\" font-family=\"Times,serif\" font-size=\"14.00\">x2</text>\n",
       "</g>\n",
       "<!-- x&#45;&gt;x2 -->\n",
       "<g id=\"edge6\" class=\"edge\">\n",
       "<title>x&#45;&gt;x2</title>\n",
       "<path fill=\"none\" stroke=\"black\" d=\"M112.45,-436.49C96.75,-425.6 73.8,-409.69 56.01,-397.37\"/>\n",
       "<polygon fill=\"black\" stroke=\"black\" points=\"57.97,-394.46 47.75,-391.64 53.98,-400.22 57.97,-394.46\"/>\n",
       "</g>\n",
       "<!-- dt -->\n",
       "<g id=\"node6\" class=\"node\">\n",
       "<title>dt</title>\n",
       "<ellipse fill=\"none\" stroke=\"black\" cx=\"46.51\" cy=\"-18\" rx=\"27\" ry=\"18\"/>\n",
       "<text text-anchor=\"middle\" x=\"46.51\" y=\"-14.3\" font-family=\"Times,serif\" font-size=\"14.00\">dt</text>\n",
       "</g>\n",
       "<!-- x&#45;&gt;dt -->\n",
       "<g id=\"edge5\" class=\"edge\">\n",
       "<title>x&#45;&gt;dt</title>\n",
       "<path fill=\"none\" stroke=\"black\" d=\"M146.13,-434.69C156.02,-424.77 168.27,-410.73 175.51,-396 193.36,-359.71 194.51,-347.45 194.51,-307 194.51,-307 194.51,-307 194.51,-161 194.51,-97.11 121.81,-53.02 78.31,-32.36\"/>\n",
       "<polygon fill=\"black\" stroke=\"black\" points=\"79.54,-29.07 68.99,-28.08 76.62,-35.44 79.54,-29.07\"/>\n",
       "</g>\n",
       "<!-- x0 -->\n",
       "<g id=\"node7\" class=\"node\">\n",
       "<title>x0</title>\n",
       "<ellipse fill=\"none\" stroke=\"black\" cx=\"139.51\" cy=\"-378\" rx=\"27\" ry=\"18\"/>\n",
       "<text text-anchor=\"middle\" x=\"139.51\" y=\"-374.3\" font-family=\"Times,serif\" font-size=\"14.00\">x0</text>\n",
       "</g>\n",
       "<!-- x&#45;&gt;x0 -->\n",
       "<g id=\"edge7\" class=\"edge\">\n",
       "<title>x&#45;&gt;x0</title>\n",
       "<path fill=\"none\" stroke=\"black\" d=\"M132.69,-432.05C133.68,-424.35 134.88,-415.03 135.99,-406.36\"/>\n",
       "<polygon fill=\"black\" stroke=\"black\" points=\"139.49,-406.64 137.29,-396.28 132.54,-405.75 139.49,-406.64\"/>\n",
       "</g>\n",
       "<!-- x2&#45;&gt;x1 -->\n",
       "<g id=\"edge9\" class=\"edge\">\n",
       "<title>x2&#45;&gt;x1</title>\n",
       "<path fill=\"none\" stroke=\"black\" d=\"M29.51,-396.05C29.51,-422.71 29.51,-475.89 29.51,-521 29.51,-595 29.51,-595 29.51,-595 29.51,-641.41 60.98,-687.67 82.87,-714.25\"/>\n",
       "<polygon fill=\"black\" stroke=\"black\" points=\"80.45,-716.8 89.59,-722.16 85.79,-712.27 80.45,-716.8\"/>\n",
       "</g>\n",
       "<!-- y -->\n",
       "<g id=\"node5\" class=\"node\">\n",
       "<title>y</title>\n",
       "<ellipse fill=\"none\" stroke=\"black\" cx=\"29.51\" cy=\"-306\" rx=\"27\" ry=\"18\"/>\n",
       "<text text-anchor=\"middle\" x=\"29.51\" y=\"-302.3\" font-family=\"Times,serif\" font-size=\"14.00\">y</text>\n",
       "</g>\n",
       "<!-- x2&#45;&gt;y -->\n",
       "<g id=\"edge8\" class=\"edge\">\n",
       "<title>x2&#45;&gt;y</title>\n",
       "<path fill=\"none\" stroke=\"black\" d=\"M29.51,-359.7C29.51,-351.98 29.51,-342.71 29.51,-334.11\"/>\n",
       "<polygon fill=\"black\" stroke=\"black\" points=\"33.01,-334.1 29.51,-324.1 26.01,-334.1 33.01,-334.1\"/>\n",
       "</g>\n",
       "<!-- y&#45;&gt;dt -->\n",
       "<g id=\"edge11\" class=\"edge\">\n",
       "<title>y&#45;&gt;dt</title>\n",
       "<path fill=\"none\" stroke=\"black\" d=\"M23.94,-288.15C11.92,-249.14 -13.47,-149.97 10.51,-72 13.8,-61.31 20.05,-50.85 26.44,-42.08\"/>\n",
       "<polygon fill=\"black\" stroke=\"black\" points=\"29.4,-43.98 32.76,-33.93 23.87,-39.69 29.4,-43.98\"/>\n",
       "</g>\n",
       "<!-- y2 -->\n",
       "<g id=\"node10\" class=\"node\">\n",
       "<title>y2</title>\n",
       "<ellipse fill=\"none\" stroke=\"black\" cx=\"103.51\" cy=\"-234\" rx=\"27\" ry=\"18\"/>\n",
       "<text text-anchor=\"middle\" x=\"103.51\" y=\"-230.3\" font-family=\"Times,serif\" font-size=\"14.00\">y2</text>\n",
       "</g>\n",
       "<!-- y&#45;&gt;y2 -->\n",
       "<g id=\"edge10\" class=\"edge\">\n",
       "<title>y&#45;&gt;y2</title>\n",
       "<path fill=\"none\" stroke=\"black\" d=\"M44.49,-290.83C55.02,-280.87 69.29,-267.37 81.17,-256.14\"/>\n",
       "<polygon fill=\"black\" stroke=\"black\" points=\"83.7,-258.56 88.56,-249.14 78.89,-253.47 83.7,-258.56\"/>\n",
       "</g>\n",
       "<!-- y1 -->\n",
       "<g id=\"node8\" class=\"node\">\n",
       "<title>y1</title>\n",
       "<ellipse fill=\"none\" stroke=\"black\" cx=\"65.51\" cy=\"-162\" rx=\"27\" ry=\"18\"/>\n",
       "<text text-anchor=\"middle\" x=\"65.51\" y=\"-158.3\" font-family=\"Times,serif\" font-size=\"14.00\">y1</text>\n",
       "</g>\n",
       "<!-- y1&#45;&gt;y -->\n",
       "<g id=\"edge13\" class=\"edge\">\n",
       "<title>y1&#45;&gt;y</title>\n",
       "<path fill=\"none\" stroke=\"black\" d=\"M61.25,-179.82C55.08,-204.15 43.61,-249.4 36.28,-278.31\"/>\n",
       "<polygon fill=\"black\" stroke=\"black\" points=\"32.85,-277.6 33.78,-288.15 39.63,-279.32 32.85,-277.6\"/>\n",
       "</g>\n",
       "<!-- z -->\n",
       "<g id=\"node9\" class=\"node\">\n",
       "<title>z</title>\n",
       "<ellipse fill=\"none\" stroke=\"black\" cx=\"46.51\" cy=\"-90\" rx=\"27\" ry=\"18\"/>\n",
       "<text text-anchor=\"middle\" x=\"46.51\" y=\"-86.3\" font-family=\"Times,serif\" font-size=\"14.00\">z</text>\n",
       "</g>\n",
       "<!-- y1&#45;&gt;z -->\n",
       "<g id=\"edge12\" class=\"edge\">\n",
       "<title>y1&#45;&gt;z</title>\n",
       "<path fill=\"none\" stroke=\"black\" d=\"M60.91,-144.05C58.76,-136.14 56.16,-126.54 53.76,-117.69\"/>\n",
       "<polygon fill=\"black\" stroke=\"black\" points=\"57.07,-116.52 51.07,-107.79 50.31,-118.36 57.07,-116.52\"/>\n",
       "</g>\n",
       "<!-- z&#45;&gt;y -->\n",
       "<g id=\"edge14\" class=\"edge\">\n",
       "<title>z&#45;&gt;y</title>\n",
       "<path fill=\"none\" stroke=\"black\" d=\"M39.62,-107.86C35.81,-118.12 31.45,-131.59 29.51,-144 22.21,-190.64 24.55,-245.82 26.98,-277.97\"/>\n",
       "<polygon fill=\"black\" stroke=\"black\" points=\"23.49,-278.26 27.79,-287.95 30.47,-277.69 23.49,-278.26\"/>\n",
       "</g>\n",
       "<!-- z&#45;&gt;dt -->\n",
       "<g id=\"edge15\" class=\"edge\">\n",
       "<title>z&#45;&gt;dt</title>\n",
       "<path fill=\"none\" stroke=\"black\" d=\"M46.51,-71.7C46.51,-63.98 46.51,-54.71 46.51,-46.11\"/>\n",
       "<polygon fill=\"black\" stroke=\"black\" points=\"50.01,-46.1 46.51,-36.1 43.01,-46.1 50.01,-46.1\"/>\n",
       "</g>\n",
       "<!-- y2&#45;&gt;x -->\n",
       "<g id=\"edge17\" class=\"edge\">\n",
       "<title>y2&#45;&gt;x</title>\n",
       "<path fill=\"none\" stroke=\"black\" d=\"M100.92,-252.23C97,-282.03 91.25,-344.9 103.51,-396 105.85,-405.73 110.29,-415.7 114.9,-424.32\"/>\n",
       "<polygon fill=\"black\" stroke=\"black\" points=\"111.89,-426.11 119.88,-433.07 117.98,-422.65 111.89,-426.11\"/>\n",
       "</g>\n",
       "<!-- y2&#45;&gt;y1 -->\n",
       "<g id=\"edge16\" class=\"edge\">\n",
       "<title>y2&#45;&gt;y1</title>\n",
       "<path fill=\"none\" stroke=\"black\" d=\"M94.7,-216.76C90.09,-208.28 84.36,-197.71 79.19,-188.2\"/>\n",
       "<polygon fill=\"black\" stroke=\"black\" points=\"82.12,-186.27 74.28,-179.15 75.97,-189.61 82.12,-186.27\"/>\n",
       "</g>\n",
       "<!-- f1 -->\n",
       "<g id=\"node11\" class=\"node\">\n",
       "<title>f1</title>\n",
       "<ellipse fill=\"none\" stroke=\"black\" cx=\"194.51\" cy=\"-522\" rx=\"27\" ry=\"18\"/>\n",
       "<text text-anchor=\"middle\" x=\"194.51\" y=\"-518.3\" font-family=\"Times,serif\" font-size=\"14.00\">f1</text>\n",
       "</g>\n",
       "<!-- f1&#45;&gt;x -->\n",
       "<g id=\"edge18\" class=\"edge\">\n",
       "<title>f1&#45;&gt;x</title>\n",
       "<path fill=\"none\" stroke=\"black\" d=\"M180.94,-506.15C172.2,-496.6 160.68,-483.99 150.85,-473.25\"/>\n",
       "<polygon fill=\"black\" stroke=\"black\" points=\"153.4,-470.84 144.06,-465.82 148.23,-475.57 153.4,-470.84\"/>\n",
       "</g>\n",
       "<!-- f2 -->\n",
       "<g id=\"node12\" class=\"node\">\n",
       "<title>f2</title>\n",
       "<ellipse fill=\"none\" stroke=\"black\" cx=\"122.51\" cy=\"-522\" rx=\"27\" ry=\"18\"/>\n",
       "<text text-anchor=\"middle\" x=\"122.51\" y=\"-518.3\" font-family=\"Times,serif\" font-size=\"14.00\">f2</text>\n",
       "</g>\n",
       "<!-- f2&#45;&gt;x -->\n",
       "<g id=\"edge19\" class=\"edge\">\n",
       "<title>f2&#45;&gt;x</title>\n",
       "<path fill=\"none\" stroke=\"black\" d=\"M124.49,-503.7C125.37,-495.98 126.43,-486.71 127.41,-478.11\"/>\n",
       "<polygon fill=\"black\" stroke=\"black\" points=\"130.9,-478.44 128.56,-468.1 123.94,-477.64 130.9,-478.44\"/>\n",
       "</g>\n",
       "<!-- f3&#45;&gt;f1 -->\n",
       "<g id=\"edge21\" class=\"edge\">\n",
       "<title>f3&#45;&gt;f1</title>\n",
       "<path fill=\"none\" stroke=\"black\" d=\"M137.08,-578.83C147.26,-568.94 161.04,-555.55 172.54,-544.36\"/>\n",
       "<polygon fill=\"black\" stroke=\"black\" points=\"174.99,-546.87 179.72,-537.38 170.11,-541.85 174.99,-546.87\"/>\n",
       "</g>\n",
       "<!-- f3&#45;&gt;f2 -->\n",
       "<g id=\"edge20\" class=\"edge\">\n",
       "<title>f3&#45;&gt;f2</title>\n",
       "<path fill=\"none\" stroke=\"black\" d=\"M122.51,-575.7C122.51,-567.98 122.51,-558.71 122.51,-550.11\"/>\n",
       "<polygon fill=\"black\" stroke=\"black\" points=\"126.01,-550.1 122.51,-540.1 119.01,-550.1 126.01,-550.1\"/>\n",
       "</g>\n",
       "</g>\n",
       "</svg>\n"
      ],
      "text/plain": [
       "<graphviz.files.Source at 0x7f12de42a3d0>"
      ]
     },
     "execution_count": 28,
     "metadata": {},
     "output_type": "execute_result"
    }
   ],
   "source": [
    "nx2dot(graph)"
   ]
  },
  {
   "cell_type": "markdown",
   "metadata": {},
   "source": [
    "Based on this dependency analysis, one can *linearize* the state, that is, define an ordering how to compute the state numerically:"
   ]
  },
  {
   "cell_type": "code",
   "execution_count": 33,
   "metadata": {},
   "outputs": [],
   "source": [
    "vars = state.variable_ordering()"
   ]
  },
  {
   "cell_type": "code",
   "execution_count": 39,
   "metadata": {},
   "outputs": [
    {
     "name": "stdout",
     "output_type": "stream",
     "text": [
      "The evolved variables are: ['int_1', 'int_2', 'z']\n",
      "Auxilliary variables are: ['f1', 'f2', 'f3', 'fx', 'mult_10', 'mult_6', 'mult_9', 'sum_1', 'sum_2', 'sum_3', 'sum_4', 'sum_5', 'sum_6', 'sum_7', 'sum_8', 'x', 'x1', 'x2', 'y', 'y1', 'y2']\n"
     ]
    }
   ],
   "source": [
    "print(\"The evolved variables are:\", vars.evolved)\n",
    "print(\"Auxilliary variables are:\", vars.aux.all)"
   ]
  },
  {
   "cell_type": "markdown",
   "metadata": {},
   "source": [
    "One sees a number of new variables. They were introduced by *naming* all *intermediate* expressions. What are these intermediates? Let's review again the variable *z*:"
   ]
  },
  {
   "cell_type": "code",
   "execution_count": 40,
   "metadata": {},
   "outputs": [
    {
     "data": {
      "image/svg+xml": [
       "<?xml version=\"1.0\" encoding=\"UTF-8\" standalone=\"no\"?>\n",
       "<!DOCTYPE svg PUBLIC \"-//W3C//DTD SVG 1.1//EN\"\n",
       " \"http://www.w3.org/Graphics/SVG/1.1/DTD/svg11.dtd\">\n",
       "<!-- Generated by graphviz version 2.44.1 (0)\n",
       " -->\n",
       "<!-- Title: DDA&#45;Symbol Pages: 1 -->\n",
       "<svg width=\"208pt\" height=\"235pt\"\n",
       " viewBox=\"0.00 0.00 208.10 235.09\" xmlns=\"http://www.w3.org/2000/svg\" xmlns:xlink=\"http://www.w3.org/1999/xlink\">\n",
       "<g id=\"graph0\" class=\"graph\" transform=\"scale(1 1) rotate(0) translate(4 231.09)\">\n",
       "<title>DDA&#45;Symbol</title>\n",
       "<polygon fill=\"white\" stroke=\"transparent\" points=\"-4,4 -4,-231.09 204.1,-231.09 204.1,4 -4,4\"/>\n",
       "<!-- int -->\n",
       "<g id=\"node1\" class=\"node\">\n",
       "<title>int</title>\n",
       "<ellipse fill=\"none\" stroke=\"black\" cx=\"124.1\" cy=\"-202.94\" rx=\"20.27\" ry=\"20.27\"/>\n",
       "<ellipse fill=\"none\" stroke=\"black\" cx=\"124.1\" cy=\"-202.94\" rx=\"24.3\" ry=\"24.3\"/>\n",
       "<text text-anchor=\"middle\" x=\"124.1\" y=\"-199.24\" font-family=\"Times,serif\" font-size=\"14.00\">int</text>\n",
       "</g>\n",
       "<!-- mult -->\n",
       "<g id=\"node2\" class=\"node\">\n",
       "<title>mult</title>\n",
       "<ellipse fill=\"none\" stroke=\"black\" cx=\"53.1\" cy=\"-111.49\" rx=\"27.12\" ry=\"27.12\"/>\n",
       "<ellipse fill=\"none\" stroke=\"black\" cx=\"53.1\" cy=\"-111.49\" rx=\"31.1\" ry=\"31.1\"/>\n",
       "<text text-anchor=\"middle\" x=\"53.1\" y=\"-107.79\" font-family=\"Times,serif\" font-size=\"14.00\">mult</text>\n",
       "</g>\n",
       "<!-- int&#45;&gt;mult -->\n",
       "<g id=\"edge3\" class=\"edge\">\n",
       "<title>int&#45;&gt;mult</title>\n",
       "<path fill=\"none\" stroke=\"black\" d=\"M109.39,-183.41C100.44,-172.13 88.77,-157.44 78.38,-144.34\"/>\n",
       "<polygon fill=\"black\" stroke=\"black\" points=\"81.07,-142.1 72.11,-136.45 75.59,-146.46 81.07,-142.1\"/>\n",
       "</g>\n",
       "<!-- dt -->\n",
       "<g id=\"node5\" class=\"node\">\n",
       "<title>dt</title>\n",
       "<ellipse fill=\"none\" stroke=\"black\" cx=\"124.1\" cy=\"-111.49\" rx=\"18\" ry=\"18\"/>\n",
       "<ellipse fill=\"none\" stroke=\"black\" cx=\"124.1\" cy=\"-111.49\" rx=\"22\" ry=\"22\"/>\n",
       "<text text-anchor=\"middle\" x=\"124.1\" y=\"-107.79\" font-family=\"Times,serif\" font-size=\"14.00\">dt</text>\n",
       "</g>\n",
       "<!-- int&#45;&gt;dt -->\n",
       "<g id=\"edge4\" class=\"edge\">\n",
       "<title>int&#45;&gt;dt</title>\n",
       "<path fill=\"none\" stroke=\"black\" d=\"M124.1,-178.44C124.1,-167.82 124.1,-155.12 124.1,-143.71\"/>\n",
       "<polygon fill=\"black\" stroke=\"black\" points=\"127.6,-143.7 124.1,-133.7 120.6,-143.7 127.6,-143.7\"/>\n",
       "</g>\n",
       "<!-- 0 -->\n",
       "<g id=\"node6\" class=\"node\">\n",
       "<title>0</title>\n",
       "<ellipse fill=\"none\" stroke=\"black\" cx=\"182.1\" cy=\"-111.49\" rx=\"18\" ry=\"18\"/>\n",
       "<text text-anchor=\"middle\" x=\"182.1\" y=\"-107.79\" font-family=\"Times,serif\" font-size=\"14.00\">0</text>\n",
       "</g>\n",
       "<!-- int&#45;&gt;0 -->\n",
       "<g id=\"edge5\" class=\"edge\">\n",
       "<title>int&#45;&gt;0</title>\n",
       "<path fill=\"none\" stroke=\"black\" d=\"M136.97,-182.09C145.84,-168.41 157.66,-150.18 166.98,-135.81\"/>\n",
       "<polygon fill=\"black\" stroke=\"black\" points=\"170.18,-137.3 172.69,-127.01 164.31,-133.49 170.18,-137.3\"/>\n",
       "</g>\n",
       "<!-- 3.5 -->\n",
       "<g id=\"node3\" class=\"node\">\n",
       "<title>3.5</title>\n",
       "<ellipse fill=\"none\" stroke=\"black\" cx=\"22.1\" cy=\"-22.1\" rx=\"22.2\" ry=\"22.2\"/>\n",
       "<text text-anchor=\"middle\" x=\"22.1\" y=\"-18.4\" font-family=\"Times,serif\" font-size=\"14.00\">3.5</text>\n",
       "</g>\n",
       "<!-- mult&#45;&gt;3.5 -->\n",
       "<g id=\"edge1\" class=\"edge\">\n",
       "<title>mult&#45;&gt;3.5</title>\n",
       "<path fill=\"none\" stroke=\"black\" d=\"M42.95,-81.88C39.65,-72.59 35.99,-62.27 32.67,-52.9\"/>\n",
       "<polygon fill=\"black\" stroke=\"black\" points=\"35.87,-51.45 29.23,-43.2 29.27,-53.79 35.87,-51.45\"/>\n",
       "</g>\n",
       "<!-- y -->\n",
       "<g id=\"node4\" class=\"node\">\n",
       "<title>y</title>\n",
       "<ellipse fill=\"none\" stroke=\"black\" cx=\"84.1\" cy=\"-22.1\" rx=\"18\" ry=\"18\"/>\n",
       "<ellipse fill=\"none\" stroke=\"black\" cx=\"84.1\" cy=\"-22.1\" rx=\"22\" ry=\"22\"/>\n",
       "<text text-anchor=\"middle\" x=\"84.1\" y=\"-18.4\" font-family=\"Times,serif\" font-size=\"14.00\">y</text>\n",
       "</g>\n",
       "<!-- mult&#45;&gt;y -->\n",
       "<g id=\"edge2\" class=\"edge\">\n",
       "<title>mult&#45;&gt;y</title>\n",
       "<path fill=\"none\" stroke=\"black\" d=\"M63.25,-81.88C66.54,-72.59 70.2,-62.27 73.53,-52.9\"/>\n",
       "<polygon fill=\"black\" stroke=\"black\" points=\"76.92,-53.79 76.97,-43.2 70.33,-51.45 76.92,-53.79\"/>\n",
       "</g>\n",
       "</g>\n",
       "</svg>\n"
      ],
      "text/plain": [
       "<graphviz.dot.Digraph at 0x7f12de3fa040>"
      ]
     },
     "execution_count": 40,
     "metadata": {},
     "output_type": "execute_result"
    }
   ],
   "source": [
    "state[\"z\"].draw_graph()"
   ]
  },
  {
   "cell_type": "markdown",
   "metadata": {},
   "source": [
    "Here, the left most child is an intermediate expression, since it computes `mult(3.5, y)`. We can give this intermediate result a concrete name and replace the whole subtree with this name:"
   ]
  },
  {
   "cell_type": "code",
   "execution_count": 42,
   "metadata": {},
   "outputs": [
    {
     "data": {
      "image/svg+xml": [
       "<?xml version=\"1.0\" encoding=\"UTF-8\" standalone=\"no\"?>\n",
       "<!DOCTYPE svg PUBLIC \"-//W3C//DTD SVG 1.1//EN\"\n",
       " \"http://www.w3.org/Graphics/SVG/1.1/DTD/svg11.dtd\">\n",
       "<!-- Generated by graphviz version 2.44.1 (0)\n",
       " -->\n",
       "<!-- Title: DDA&#45;Symbol Pages: 1 -->\n",
       "<svg width=\"204pt\" height=\"173pt\"\n",
       " viewBox=\"0.00 0.00 204.40 173.09\" xmlns=\"http://www.w3.org/2000/svg\" xmlns:xlink=\"http://www.w3.org/1999/xlink\">\n",
       "<g id=\"graph0\" class=\"graph\" transform=\"scale(1 1) rotate(0) translate(4 169.09)\">\n",
       "<title>DDA&#45;Symbol</title>\n",
       "<polygon fill=\"white\" stroke=\"transparent\" points=\"-4,4 -4,-169.09 200.4,-169.09 200.4,4 -4,4\"/>\n",
       "<!-- int -->\n",
       "<g id=\"node1\" class=\"node\">\n",
       "<title>int</title>\n",
       "<ellipse fill=\"none\" stroke=\"black\" cx=\"120.4\" cy=\"-140.94\" rx=\"20.27\" ry=\"20.27\"/>\n",
       "<ellipse fill=\"none\" stroke=\"black\" cx=\"120.4\" cy=\"-140.94\" rx=\"24.3\" ry=\"24.3\"/>\n",
       "<text text-anchor=\"middle\" x=\"120.4\" y=\"-137.24\" font-family=\"Times,serif\" font-size=\"14.00\">int</text>\n",
       "</g>\n",
       "<!-- mult_6 -->\n",
       "<g id=\"node2\" class=\"node\">\n",
       "<title>mult_6</title>\n",
       "<ellipse fill=\"none\" stroke=\"black\" cx=\"40.4\" cy=\"-40.4\" rx=\"36.3\" ry=\"36.3\"/>\n",
       "<ellipse fill=\"none\" stroke=\"black\" cx=\"40.4\" cy=\"-40.4\" rx=\"40.29\" ry=\"40.29\"/>\n",
       "<text text-anchor=\"middle\" x=\"40.4\" y=\"-36.7\" font-family=\"Times,serif\" font-size=\"14.00\">mult_6</text>\n",
       "</g>\n",
       "<!-- int&#45;&gt;mult_6 -->\n",
       "<g id=\"edge1\" class=\"edge\">\n",
       "<title>int&#45;&gt;mult_6</title>\n",
       "<path fill=\"none\" stroke=\"black\" d=\"M105.35,-121.41C95.97,-109.85 83.53,-94.53 72.06,-80.4\"/>\n",
       "<polygon fill=\"black\" stroke=\"black\" points=\"74.46,-77.81 65.44,-72.25 69.03,-82.22 74.46,-77.81\"/>\n",
       "</g>\n",
       "<!-- dt -->\n",
       "<g id=\"node3\" class=\"node\">\n",
       "<title>dt</title>\n",
       "<ellipse fill=\"none\" stroke=\"black\" cx=\"120.4\" cy=\"-40.4\" rx=\"18\" ry=\"18\"/>\n",
       "<ellipse fill=\"none\" stroke=\"black\" cx=\"120.4\" cy=\"-40.4\" rx=\"22\" ry=\"22\"/>\n",
       "<text text-anchor=\"middle\" x=\"120.4\" y=\"-36.7\" font-family=\"Times,serif\" font-size=\"14.00\">dt</text>\n",
       "</g>\n",
       "<!-- int&#45;&gt;dt -->\n",
       "<g id=\"edge2\" class=\"edge\">\n",
       "<title>int&#45;&gt;dt</title>\n",
       "<path fill=\"none\" stroke=\"black\" d=\"M120.4,-116.59C120.4,-103.53 120.4,-87.07 120.4,-72.88\"/>\n",
       "<polygon fill=\"black\" stroke=\"black\" points=\"123.9,-72.57 120.4,-62.57 116.9,-72.57 123.9,-72.57\"/>\n",
       "</g>\n",
       "<!-- 0 -->\n",
       "<g id=\"node4\" class=\"node\">\n",
       "<title>0</title>\n",
       "<ellipse fill=\"none\" stroke=\"black\" cx=\"178.4\" cy=\"-40.4\" rx=\"18\" ry=\"18\"/>\n",
       "<text text-anchor=\"middle\" x=\"178.4\" y=\"-36.7\" font-family=\"Times,serif\" font-size=\"14.00\">0</text>\n",
       "</g>\n",
       "<!-- int&#45;&gt;0 -->\n",
       "<g id=\"edge3\" class=\"edge\">\n",
       "<title>int&#45;&gt;0</title>\n",
       "<path fill=\"none\" stroke=\"black\" d=\"M132.41,-119.52C141.68,-103.78 154.51,-81.98 164.27,-65.4\"/>\n",
       "<polygon fill=\"black\" stroke=\"black\" points=\"167.55,-66.73 169.61,-56.33 161.52,-63.17 167.55,-66.73\"/>\n",
       "</g>\n",
       "</g>\n",
       "</svg>\n"
      ],
      "text/plain": [
       "<graphviz.dot.Digraph at 0x7f12de3f5b80>"
      ]
     },
     "execution_count": 42,
     "metadata": {},
     "output_type": "execute_result"
    }
   ],
   "source": [
    "state.name_computing_elements()[\"z\"].draw_graph()"
   ]
  },
  {
   "cell_type": "markdown",
   "metadata": {},
   "source": [
    "## Simulating a circuit\n",
    "\n",
    "In the following, we use the C++ code generator to simulate this simple ordinary differential equation:"
   ]
  },
  {
   "cell_type": "code",
   "execution_count": 49,
   "metadata": {},
   "outputs": [
    {
     "name": "stdout",
     "output_type": "stream",
     "text": [
      "// This code was generated by PyDDA.\n",
      "\n",
      "#include <cmath> /* don't forget -lm for linking */\n",
      "#include <cfenv> /* for feraisexcept and friends */\n",
      "#include <limits> /* for signaling NAN */\n",
      "#include <vector>\n",
      "#include <string>\n",
      "#include <sstream>\n",
      "#include <algorithm>\n",
      "#include <map>\n",
      "#include <cstdio>\n",
      "#include <iostream>\n",
      "#include <fstream>\n",
      "\n",
      "bool debug;\n",
      "constexpr double _nan_ = std::numeric_limits<double>::signaling_NaN();\n",
      "\n",
      "namespace dda {\n",
      "\n",
      "/* if you use an old C++ compiler, just remove the newer features */\n",
      "#define A constexpr double            /* constexpr requires C++11 */\n",
      "#define D template<typename... T> A   /* Variadic templates require C++17 */\n",
      "\n",
      "// Known limitations for div(int, double): If certain arguments appear as integer\n",
      "// in the code (i.e. 1 instead of 1.0), there is div(int,int) kicking in from\n",
      "// cstdlib. TODO: Should rename div to Div; following int->Int.\n",
      "\n",
      "A neg(double a) { return -a; }\n",
      "A div(double a, double b) { return a/b; }\n",
      "D Int(T... a) { return -(a + ...); } // int() is reserved in C\n",
      "D sum(T... a) { return -(a + ...); }\n",
      "D mult(T... a) { return (a * ...); }\n",
      "A dead_upper(double a, double b) { return a > b ? (a-b) : 0; }\n",
      "A dead_lower(double a, double b) { return a < b ? (a-b) : 0; }\n",
      "A min(double a, double b) { return a < b ? a : b; }\n",
      "A max(double a, double b) { return a > b ? a : b; }\n",
      "A lt(double a, double b, double c, double d) { return a <  b ? c : d; }\n",
      "A le(double a, double b, double c, double d) { return a <= b ? c : d; }\n",
      "A gt(double a, double b, double c, double d) { return a >  b ? c : d; }\n",
      "A ge(double a, double b, double c, double d) { return a >= b ? c : d; }\n",
      "// A sqrt(double a) is part of <cmath>\n",
      "A abs(double a) { return a < 0 ? -a : a; } // abs(int) part of cstdlib\n",
      "// A exp(double a) is part of <cmath>\n",
      "A floor(double a) { return (int)(a); } // also part of cmath since c++11\n",
      "\n",
      "} // end namespace dda\n",
      "\n",
      "using namespace dda;\n",
      "\n",
      "// Time-evolved variables, actual \"state\" (in general dq/dt!=0)\n",
      "struct state_variables {\n",
      "         double int_1, int_2, z;\n",
      "              state_variables operator*(const state_variables &_other) const {\n",
      "               state_variables _state;\n",
      "               _state.int_1 = int_1 * _other.int_1;\n",
      "               _state.int_2 = int_2 * _other.int_2;\n",
      "               _state.z = z * _other.z;\n",
      "               return _state;\n",
      "          }\n",
      "          state_variables operator*(const double &_other) const {\n",
      "               state_variables _state;\n",
      "               _state.int_1 = int_1 * _other;\n",
      "               _state.int_2 = int_2 * _other;\n",
      "               _state.z = z * _other;\n",
      "               return _state;\n",
      "          }\n",
      "          state_variables operator+(const state_variables &_other) const {\n",
      "               state_variables _state;\n",
      "               _state.int_1 = int_1 + _other.int_1;\n",
      "               _state.int_2 = int_2 + _other.int_2;\n",
      "               _state.z = z + _other.z;\n",
      "               return _state;\n",
      "          }\n",
      "          state_variables operator+(const double &_other) const {\n",
      "               state_variables _state;\n",
      "               _state.int_1 = int_1 + _other;\n",
      "               _state.int_2 = int_2 + _other;\n",
      "               _state.z = z + _other;\n",
      "               return _state;\n",
      "          }\n",
      "    const double* byName(std::string _name_) const {\n",
      "                  if(_name_ == \"int_1\") return &int_1;\n",
      "          if(_name_ == \"int_2\") return &int_2;\n",
      "          if(_name_ == \"z\") return &z;\n",
      "        return nullptr;\n",
      "    }\n",
      "};\n",
      "\n",
      "// Auxiliary variables, derived from state_variables, not evolved in time (dqdt=0)\n",
      "struct auxillaries  {\n",
      "         double f1, f2, f3, fx, mult_1, mult_10, mult_2,\n",
      "     mult_3, mult_4, mult_5, mult_6, mult_7, mult_8,\n",
      "     mult_9, sum_1, sum_2, sum_3, sum_4, sum_5, sum_6,\n",
      "     sum_7, sum_8, x, x1, x2, y, y1, y2;\n",
      "    void set_to_nan() {\n",
      "             f1 = _nan_;\n",
      "     f2 = _nan_;\n",
      "     f3 = _nan_;\n",
      "     fx = _nan_;\n",
      "     mult_1 = _nan_;\n",
      "     mult_10 = _nan_;\n",
      "     mult_2 = _nan_;\n",
      "     mult_3 = _nan_;\n",
      "     mult_4 = _nan_;\n",
      "     mult_5 = _nan_;\n",
      "     mult_6 = _nan_;\n",
      "     mult_7 = _nan_;\n",
      "     mult_8 = _nan_;\n",
      "     mult_9 = _nan_;\n",
      "     sum_1 = _nan_;\n",
      "     sum_2 = _nan_;\n",
      "     sum_3 = _nan_;\n",
      "     sum_4 = _nan_;\n",
      "     sum_5 = _nan_;\n",
      "     sum_6 = _nan_;\n",
      "     sum_7 = _nan_;\n",
      "     sum_8 = _nan_;\n",
      "     x = _nan_;\n",
      "     x1 = _nan_;\n",
      "     x2 = _nan_;\n",
      "     y = _nan_;\n",
      "     y1 = _nan_;\n",
      "     y2 = _nan_;\n",
      "    }\n",
      "    const double* byName(std::string _name_) const {\n",
      "                  if(_name_ == \"f1\") return &f1;\n",
      "          if(_name_ == \"f2\") return &f2;\n",
      "          if(_name_ == \"f3\") return &f3;\n",
      "          if(_name_ == \"fx\") return &fx;\n",
      "          if(_name_ == \"mult_1\") return &mult_1;\n",
      "          if(_name_ == \"mult_10\") return &mult_10;\n",
      "          if(_name_ == \"mult_2\") return &mult_2;\n",
      "          if(_name_ == \"mult_3\") return &mult_3;\n",
      "          if(_name_ == \"mult_4\") return &mult_4;\n",
      "          if(_name_ == \"mult_5\") return &mult_5;\n",
      "          if(_name_ == \"mult_6\") return &mult_6;\n",
      "          if(_name_ == \"mult_7\") return &mult_7;\n",
      "          if(_name_ == \"mult_8\") return &mult_8;\n",
      "          if(_name_ == \"mult_9\") return &mult_9;\n",
      "          if(_name_ == \"sum_1\") return &sum_1;\n",
      "          if(_name_ == \"sum_2\") return &sum_2;\n",
      "          if(_name_ == \"sum_3\") return &sum_3;\n",
      "          if(_name_ == \"sum_4\") return &sum_4;\n",
      "          if(_name_ == \"sum_5\") return &sum_5;\n",
      "          if(_name_ == \"sum_6\") return &sum_6;\n",
      "          if(_name_ == \"sum_7\") return &sum_7;\n",
      "          if(_name_ == \"sum_8\") return &sum_8;\n",
      "          if(_name_ == \"x\") return &x;\n",
      "          if(_name_ == \"x1\") return &x1;\n",
      "          if(_name_ == \"x2\") return &x2;\n",
      "          if(_name_ == \"y\") return &y;\n",
      "          if(_name_ == \"y1\") return &y1;\n",
      "          if(_name_ == \"y2\") return &y2;\n",
      "        return nullptr;\n",
      "    }\n",
      "};\n",
      "\n",
      "// Explicit constants\n",
      "static const struct constants {\n",
      "         constexpr static double dt=0.001, x0=0.1;\n",
      "    const double* byName(std::string _name_) const {\n",
      "                  if(_name_ == \"dt\") return &dt;\n",
      "          if(_name_ == \"x0\") return &x0;\n",
      "        return nullptr;\n",
      "    }\n",
      "} _constants;\n",
      "\n",
      "// All variables as well-ordered string:\n",
      "static const std::vector<std::string> all_variables = {\n",
      "         \"dt\",\n",
      "     \"f1\",\n",
      "     \"f2\",\n",
      "     \"f3\",\n",
      "     \"fx\",\n",
      "     \"int_1\",\n",
      "     \"int_2\",\n",
      "     \"mult_1\",\n",
      "     \"mult_10\",\n",
      "     \"mult_2\",\n",
      "     \"mult_3\",\n",
      "     \"mult_4\",\n",
      "     \"mult_5\",\n",
      "     \"mult_6\",\n",
      "     \"mult_7\",\n",
      "     \"mult_8\",\n",
      "     \"mult_9\",\n",
      "     \"sum_1\",\n",
      "     \"sum_2\",\n",
      "     \"sum_3\",\n",
      "     \"sum_4\",\n",
      "     \"sum_5\",\n",
      "     \"sum_6\",\n",
      "     \"sum_7\",\n",
      "     \"sum_8\",\n",
      "     \"x\",\n",
      "     \"x0\",\n",
      "     \"x1\",\n",
      "     \"x2\",\n",
      "     \"y\",\n",
      "     \"y1\",\n",
      "     \"y2\",\n",
      "     \"z\",\n",
      "};\n",
      "\n",
      "/// Compute the equations as given in the dda file\n",
      "/// It is actually _dqdt = f(_state, _aux), or at least\n",
      "/// (_dqdt,_aux) = f(_state).\n",
      "/// _aux is only returned for debugging and controlling purposes of intermediate results\n",
      "\n",
      "void f(state_variables const &_state, state_variables &_dqdt, auxillaries &_aux) {\n",
      "    if(debug) _aux.set_to_nan(); // only for debugging: ensure no use of uninitialized variables\n",
      "\n",
      "         // 1. Topologically sorted aux variables\n",
      "     _aux.mult_2 = mult(3.12, neg(_state.int_1));\n",
      "     _aux.sum_3 = sum(_aux.mult_2, _constants.x0);\n",
      "     _aux.x = neg(_aux.sum_3);\n",
      "     _aux.mult_7 = mult(0.7143, _aux.x);\n",
      "     _aux.mult_8 = mult(0.7143, _aux.x);\n",
      "     _aux.sum_6 = sum(_aux.mult_7, 0.2857);\n",
      "     _aux.sum_7 = sum(_aux.mult_8, -0.2857);\n",
      "     _aux.f1 = abs(_aux.sum_6);\n",
      "     _aux.f2 = abs(_aux.sum_7);\n",
      "     _aux.sum_8 = sum(_aux.f1, neg(_aux.f2));\n",
      "     _aux.f3 = neg(_aux.sum_8);\n",
      "     _aux.y = mult(4, neg(_state.int_2));\n",
      "     _aux.mult_9 = mult(0.714, _aux.x);\n",
      "     _aux.mult_10 = mult(0.3003, _aux.f3);\n",
      "     _aux.mult_3 = mult(0.125, _aux.y);\n",
      "     _aux.fx = sum(_aux.mult_9, _aux.mult_10);\n",
      "     _aux.sum_4 = sum(_state.z, neg(_aux.mult_3));\n",
      "     _aux.sum_1 = sum(_aux.x, _aux.fx);\n",
      "     _aux.y1 = neg(_aux.sum_4);\n",
      "     _aux.x1 = mult(-10, neg(_aux.sum_1));\n",
      "     _aux.mult_4 = mult(1.25, _aux.x);\n",
      "     _aux.mult_5 = mult(2, _aux.y1);\n",
      "     _aux.mult_1 = mult(0.5, _aux.x1);\n",
      "     _aux.sum_5 = sum(_aux.mult_4, _aux.mult_5);\n",
      "     _aux.sum_2 = sum(_aux.y, _aux.mult_1);\n",
      "     _aux.mult_6 = mult(3.5, _aux.y);\n",
      "     _aux.y2 = neg(_aux.sum_5);\n",
      "     _aux.x2 = neg(_aux.sum_2);\n",
      "     // 2. Cyclic aux variables\n",
      "     /* none */\n",
      "     // 3. Unneeded auxilliary variables (maybe postprocessing, etc.)\n",
      "     /* none */\n",
      "     // 4. State variable changes (dqdt), finally\n",
      "     _dqdt.int_1 = Int(_aux.x2);\n",
      "     _dqdt.int_2 = Int(_aux.y2);\n",
      "     _dqdt.z = Int(_aux.mult_6);\n",
      "}\n",
      "\n",
      "/// Helper routine: Compute aux variables from a state. Helpful for consistent printing.\n",
      "void compute_aux(state_variables const& _state, auxillaries &_aux) {\n",
      "    state_variables dummy__dqdt;\n",
      "    f(_state, dummy__dqdt, _aux);\n",
      "}\n",
      "\n",
      "state_variables\n",
      "    initial_data{ 0.000000, 0.000000, 0.000000 },\n",
      "    dt{ _constants.dt, _constants.dt, _constants.dt };\n",
      "\n",
      "void integrate(state_variables& _state, auxillaries& _aux, int rk_order) {\n",
      "    state_variables k1, k2, k3, k4;\n",
      "\n",
      "    switch(rk_order) {\n",
      "        case 1:\n",
      "            // Explicit Euler scheme\n",
      "            f(_state, k1, _aux);\n",
      "            _state = _state + k1*dt;\n",
      "            break;\n",
      "        case 2:\n",
      "            // RK2 scheme\n",
      "            f(_state, k1, _aux);\n",
      "            f(_state + k1*dt, k2, _aux);\n",
      "            _state = _state + (k1+k2)*dt*0.5;\n",
      "            break;\n",
      "        case 3:\n",
      "            // Kutta's third order scheme \n",
      "            f(_state, k1, _aux);\n",
      "            f(_state + dt*k1*0.5, k2, _aux);\n",
      "            f(_state + dt*k1*(-1.0) + dt*k2*2.0, k3, _aux);\n",
      "            _state = _state + (k1 + k2*4.0 + k3*1.0)*dt*(1./6.);\n",
      "            break;\n",
      "        case 4:\n",
      "            // Classical RK4 scheme \n",
      "            f(_state, k1, _aux);\n",
      "            f(_state + dt*k1*0.5, k2, _aux);\n",
      "            f(_state + dt*k2*0.5, k3, _aux);\n",
      "            f(_state + dt*k3*1.0, k4, _aux);\n",
      "            _state = _state + (k1 + k2*2.0 + k3*2.0 + k4)*dt*(1./6.);\n",
      "            break;\n",
      "        default:\n",
      "            exit(-42);\n",
      "    }\n",
      "}\n",
      "\n",
      "struct csv_writer {\n",
      "    std::vector<std::string> query_variables;\n",
      "    bool write_initial_conditions, always_compute_aux_before_printing, binary_output;\n",
      "\n",
      "    const char* sep(size_t i) const { return (i!=query_variables.size() ? \"\\t\" : \"\\n\"); }\n",
      "    \n",
      "    void write_header() const {\n",
      "        if(binary_output) return;\n",
      "        for(size_t i=0; i<query_variables.size();)\n",
      "            std::cout << query_variables[i++] << sep(i);\n",
      "    }\n",
      "    \n",
      "    void write_line(const state_variables& _state, const auxillaries& _aux, const constants& _constants) const {\n",
      "        auxillaries recomputed___aux;\n",
      "        const auxillaries *actual___aux = &_aux;\n",
      "        if(always_compute_aux_before_printing) {\n",
      "            compute_aux(_state, recomputed___aux);\n",
      "            actual___aux = &recomputed___aux;\n",
      "        }\n",
      "        for(size_t i=0; i<query_variables.size(); i++) {\n",
      "            const double* lookup=nullptr; std::string var = query_variables[i];\n",
      "            if(!lookup) lookup = _state.byName(var);\n",
      "            if(!lookup) lookup = actual___aux->byName(var);\n",
      "            if(!lookup) lookup = _constants.byName(var);\n",
      "            if(!lookup) { std::cerr << \"Lookup failed\" << std::endl; exit(-123); }\n",
      "            if(binary_output) {\n",
      "                std::cout.write(reinterpret_cast<const char*>( lookup ), sizeof(double));\n",
      "            } else {\n",
      "                std::cout << *lookup << sep(i+1);\n",
      "            }\n",
      "        }\n",
      "    }\n",
      "} writer;\n",
      "\n",
      "state_variables simulate_dda(state_variables initial, int max_iterations, int modulo_writer, int rk_order) {\n",
      "    state_variables _state = initial;\n",
      "    auxillaries _aux;\n",
      "    \n",
      "    if(debug) {\n",
      "#ifdef _GNU_SOURCE\n",
      "        feenableexcept(FE_DIVBYZERO | FE_INVALID | FE_OVERFLOW); // glibc-specific\n",
      "#else\n",
      "        // Debugging for non-glibc (ie. non-Linux), see https://stackoverflow.com/a/12762999\n",
      "        // If you want do debugging on some other platform, please implement it on your own...\n",
      "        std::cerr << \"Warning: Debugging floating point not yet supported\" << std::endl;\n",
      "#endif\n",
      "    }\n",
      "\n",
      "    writer.write_header();\n",
      "\n",
      "    if(writer.write_initial_conditions) {\n",
      "        _aux.set_to_nan(); // definite state for auxers at printing: not yet computed.\n",
      "        writer.write_line(_state, _aux, _constants);\n",
      "    }\n",
      "    \n",
      "    for(int iter = 0; iter < max_iterations; iter++) {\n",
      "        integrate(_state, _aux, rk_order);\n",
      "\n",
      "        if(iter % modulo_writer == 0)\n",
      "            writer.write_line(_state, _aux, _constants);\n",
      "    }\n",
      "    \n",
      "    return _state;\n",
      "}\n",
      "\n",
      "using namespace std;\n",
      "\n",
      "vector<string> split(const string& input, const char seperator='=') {\n",
      "    stringstream s(input);\n",
      "    string segment;\n",
      "    vector<string> seglist;\n",
      "    while(getline(s, segment, seperator))\n",
      "        seglist.push_back(segment);\n",
      "    return seglist;\n",
      "}\n",
      "\n",
      "template<typename T>  T extract(const string& input) {\n",
      "    T target;\n",
      "    istringstream ss(input); ss >> target;\n",
      "    if(ss.fail()) {\n",
      "        cerr << \"Failure: Not a number: \" << input << endl;\n",
      "        exit(-4);\n",
      "    }\n",
      "    return target;\n",
      "}\n",
      "\n",
      "bool unprefix(string& str, const string prefix) {\n",
      "    bool is_prefixed = !str.compare(0, prefix.size(), prefix);\n",
      "    if(is_prefixed) str = str.substr(prefix.size());\n",
      "    return is_prefixed;\n",
      "}\n",
      "\n",
      "bool contains(const std::vector<std::string>& haystack, const std::string& needle) {\n",
      "    return std::find(haystack.begin(), haystack.end(), needle) != haystack.end();\n",
      "}\n",
      "\n",
      "int main(int argc, char** argv) {\n",
      "    // runtime-definable arguments and their values:\n",
      "    \n",
      "    map<string, int> numbers;\n",
      "    numbers[\"modulo_write\"] = 1;\n",
      "    numbers[\"max_iterations\"] = 100;\n",
      "    numbers[\"rk_order\"] = 1;\n",
      "    numbers[\"number_precision\"] = 5;\n",
      "    \n",
      "    map<string, bool> flags;\n",
      "    flags[\"debug\"] = false;\n",
      "    flags[\"list_all_variables\"] = false;\n",
      "    flags[\"write_initial_conditions\"] = false;\n",
      "    flags[\"always_compute_aux_before_printing\"] = true;\n",
      "    flags[\"binary_output\"] = false;\n",
      "\n",
      "    // Our primitive argument processing:\n",
      "    vector<string> args(argv + 1, argv + argc);\n",
      "    for(auto arg : args) {\n",
      "        if(arg == \"--help\") {\n",
      "            string ind = \"  \";\n",
      "            cerr << \"Usage: \" << argv[0] << \" [arguments] <variables_to_print>\" << endl;\n",
      "            cerr << \"This is an ODE integrator generated by PyDDA\" << endl << endl;\n",
      "            cerr << \"* Boolean arguments (Usage --foo or --foo=1 or --foo=0)\" << endl;\n",
      "            for(auto const& [key, val] : flags) cerr << ind << key << \" (default value: \" << val << \")\" << endl;\n",
      "            cerr << \"* Numeric arguments: (Usage --foo=123)\" << endl;\n",
      "            for(auto const& [key, val] : numbers) cerr << ind << key << \" (default value: \" << val << \")\" << endl;\n",
      "            cerr << \"* Query fields: (if none given, all are dumped)\";\n",
      "            for(size_t i=0; i<all_variables.size();) { cerr << endl << ind;\n",
      "                for(size_t j=0;j<5 && i<all_variables.size();j++) cerr << all_variables[i++] << (i!=all_variables.size() ? \", \" : \"\"); }\n",
      "            cerr << endl << \"Exemplaric usage:\" << endl;\n",
      "            cerr << ind << argv[0] << \"--foo=True --bar=7 var1 var2 var3\" << endl;\n",
      "            exit(-1);\n",
      "        }\n",
      "    \n",
      "        if(unprefix(arg, \"--\")) {\n",
      "            vector<string> splitted = split(arg);\n",
      "            string key, value;\n",
      "            if(splitted.size() == 1) splitted.push_back(\"1\"); // for the booleans\n",
      "            if(splitted.size() != 2) {\n",
      "                cerr << \"ERR: Illegal key-value argument \" << arg << endl;\n",
      "                cerr << \"ERR: Try --help\" << endl;\n",
      "                exit(-3);\n",
      "            }\n",
      "            key=splitted[0]; value=splitted[1];\n",
      "            if(numbers.count(key))    numbers[key] = extract<int>(value);\n",
      "            else if(flags.count(key)) flags[key] = extract<bool>(value);\n",
      "            else {\n",
      "                cerr << \"ERR: Illegal argument: \" << arg << endl;\n",
      "                cerr << \"ERR: Try --help\" << endl;\n",
      "                exit(-3);\n",
      "            }\n",
      "        } else {\n",
      "            if(contains(all_variables, arg)) {\n",
      "                writer.query_variables.push_back(arg);\n",
      "            } else {\n",
      "                cerr << \"ERR: Illegal argument: \" << arg << endl;\n",
      "                cerr << \"ERR: It is not a member of the variables. Try --help.\" << endl;\n",
      "                exit(-2);\n",
      "            }\n",
      "        }\n",
      "    } // for args\n",
      "    \n",
      "    if(flags[\"list_all_variables\"]) {\n",
      "        for(auto var : all_variables) puts(var.c_str());\n",
      "        exit(0);\n",
      "    }\n",
      "    \n",
      "    // cout.set_precision(numbers[\"number_precision\"]); // TODO, move above correctly, before every number\n",
      "    \n",
      "    if(writer.query_variables.empty())\n",
      "        writer.query_variables = all_variables;\n",
      "\n",
      "    debug = flags[\"debug\"];\n",
      "    writer.write_initial_conditions = flags[\"write_initial_conditions\"];\n",
      "    writer.always_compute_aux_before_printing = flags[\"always_compute_aux_before_printing\"];\n",
      "    writer.binary_output = flags[\"binary_output\"];\n",
      "    \n",
      "    simulate_dda(initial_data, numbers[\"max_iterations\"], numbers[\"modulo_write\"], numbers[\"rk_order\"]);\n",
      "}\n",
      "\n",
      "\n"
     ]
    }
   ],
   "source": [
    "cpp_code = state.export(to=\"C\")\n",
    "print(cpp_code)"
   ]
  },
  {
   "cell_type": "markdown",
   "metadata": {},
   "source": [
    "We printed the generated C++ code, which is in fact just a string in python, in the cell above. Next come some shortcut functions which call the system C++ compiler and run the binary, all externally on the system shell. The return value is slurped in as CSV data with numpy, so we readily have it for plotting."
   ]
  },
  {
   "cell_type": "code",
   "execution_count": 79,
   "metadata": {},
   "outputs": [],
   "source": [
    "from dda.cpp_exporter import compile, run\n",
    "compile(cpp_code)"
   ]
  },
  {
   "cell_type": "code",
   "execution_count": 84,
   "metadata": {},
   "outputs": [
    {
     "name": "stdout",
     "output_type": "stream",
     "text": [
      "Running: ./a.out --max_iterations=10 x y z\n",
      "x\ty\tz\n",
      "0.100223\t0.0005\t0\n",
      "0.100448\t0.00100062\t-1.75e-06\n",
      "0.100675\t0.00150184\t-5.25215e-06\n",
      "0.100905\t0.00200368\t-1.05086e-05\n",
      "0.101136\t0.00250611\t-1.75215e-05\n",
      "0.10137\t0.00300915\t-2.62929e-05\n",
      "0.101605\t0.00351277\t-3.68249e-05\n",
      "0.101843\t0.00401699\t-4.91196e-05\n",
      "0.102082\t0.0045218\t-6.3179e-05\n",
      "0.102324\t0.00502718\t-7.90053e-05\n",
      "\n"
     ]
    }
   ],
   "source": [
    "# This shows the stdout of the binary generated by the above C++ code:\n",
    "print(run(arguments={\"max_iterations\":10}, fields_to_export=list(\"xyz\"), return_ndarray=False))"
   ]
  },
  {
   "cell_type": "code",
   "execution_count": 85,
   "metadata": {},
   "outputs": [
    {
     "name": "stdout",
     "output_type": "stream",
     "text": [
      "Running: ./a.out --max_iterations=1000 --modulo_write=10\n"
     ]
    }
   ],
   "source": [
    "# We can slurp in the CSV data directly to a numpy recarray:\n",
    "result = run(arguments={\"max_iterations\":1000, \"modulo_write\":10})"
   ]
  },
  {
   "cell_type": "code",
   "execution_count": 59,
   "metadata": {},
   "outputs": [
    {
     "data": {
      "text/plain": [
       "array([0.100223, 0.102568, 0.105126, 0.107902, 0.110904, 0.114137,\n",
       "       0.11761 , 0.121327, 0.125297, 0.129525, 0.134019, 0.138785,\n",
       "       0.143831, 0.149164, 0.154792, 0.16072 , 0.166958, 0.173512,\n",
       "       0.180391, 0.187603, 0.195156, 0.203058, 0.211319, 0.219946,\n",
       "       0.22895 , 0.23834 , 0.248125, 0.258317, 0.268924, 0.279959,\n",
       "       0.291432, 0.303354, 0.315739, 0.328597, 0.341943, 0.355789,\n",
       "       0.370149, 0.385039, 0.400471, 0.415958, 0.430975, 0.445545,\n",
       "       0.459687, 0.473419, 0.486757, 0.499714, 0.512304, 0.524535,\n",
       "       0.536418, 0.54796 , 0.559167, 0.570045, 0.580597, 0.590828,\n",
       "       0.600738, 0.61033 , 0.619603, 0.628559, 0.637196, 0.645513,\n",
       "       0.653509, 0.661182, 0.668528, 0.675547, 0.682235, 0.688589,\n",
       "       0.694606, 0.700283, 0.705617, 0.710605, 0.715244, 0.719531,\n",
       "       0.723464, 0.727041, 0.730258, 0.733115, 0.73561 , 0.737741,\n",
       "       0.739508, 0.74091 , 0.741947, 0.742621, 0.742931, 0.742879,\n",
       "       0.742467, 0.741697, 0.740573, 0.739097, 0.737275, 0.735109,\n",
       "       0.732606, 0.729772, 0.726611, 0.723132, 0.719342, 0.715248,\n",
       "       0.710859, 0.706184, 0.701233, 0.696016])"
      ]
     },
     "execution_count": 59,
     "metadata": {},
     "output_type": "execute_result"
    }
   ],
   "source": [
    "result[\"x\"]"
   ]
  },
  {
   "cell_type": "code",
   "execution_count": 61,
   "metadata": {},
   "outputs": [],
   "source": [
    "import matplotlib.pyplot as plt"
   ]
  },
  {
   "cell_type": "code",
   "execution_count": 67,
   "metadata": {},
   "outputs": [
    {
     "data": {
      "text/plain": [
       "<matplotlib.legend.Legend at 0x7f12de399100>"
      ]
     },
     "execution_count": 67,
     "metadata": {},
     "output_type": "execute_result"
    },
    {
     "data": {
      "image/png": "[encoded data removed]",
      "text/plain": [
       "<Figure size 432x288 with 1 Axes>"
      ]
     },
     "metadata": {
      "needs_background": "light"
     },
     "output_type": "display_data"
    }
   ],
   "source": [
    "plt.plot(result[\"x\"], label=\"x\")\n",
    "plt.plot(result[\"y\"], label=\"y\")\n",
    "plt.xlabel(\"time (iterations)\")\n",
    "plt.ylabel(\"field values\")\n",
    "plt.legend()"
   ]
  },
  {
   "cell_type": "markdown",
   "metadata": {},
   "source": [
    "Let's run the simulation a bit longer and display a *phase space* plot of *x* and *y*:"
   ]
  },
  {
   "cell_type": "code",
   "execution_count": 78,
   "metadata": {},
   "outputs": [
    {
     "name": "stdout",
     "output_type": "stream",
     "text": [
      "Running: ./a.out --max_iterations=30000 --modulo_write=50\n"
     ]
    },
    {
     "data": {
      "text/plain": [
       "[<matplotlib.lines.Line2D at 0x7f12dd23d580>]"
      ]
     },
     "execution_count": 78,
     "metadata": {},
     "output_type": "execute_result"
    },
    {
     "data": {
      "image/png": "[encoded data removed]",
      "text/plain": [
       "<Figure size 432x288 with 1 Axes>"
      ]
     },
     "metadata": {
      "needs_background": "light"
     },
     "output_type": "display_data"
    }
   ],
   "source": [
    "result = run(arguments={\"max_iterations\":30000, \"modulo_write\":50})\n",
    "plt.xlabel(\"x\"); plt.ylabel(\"y\")\n",
    "plt.plot(result[\"x\"], result[\"y\"], \"o-\")"
   ]
  },
  {
   "cell_type": "markdown",
   "metadata": {},
   "source": [
    "That's it for the moment. If you want to see even more advanced plotting, inspect the `run-chua.py` file in the directory of this notebook file."
   ]
  }
 ],
 "metadata": {
  "kernelspec": {
   "display_name": "Python 3",
   "language": "python",
   "name": "python3"
  },
  "language_info": {
   "codemirror_mode": {
    "name": "ipython",
    "version": 3
   },
   "file_extension": ".py",
   "mimetype": "text/x-python",
   "name": "python",
   "nbconvert_exporter": "python",
   "pygments_lexer": "ipython3",
   "version": "3.8.5"
  }
 },
 "nbformat": 4,
 "nbformat_minor": 4
}
